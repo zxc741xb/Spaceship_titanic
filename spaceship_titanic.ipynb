{
  "cells": [
    {
      "cell_type": "code",
      "execution_count": 1,
      "metadata": {
        "id": "rVx5-tuL0EC3"
      },
      "outputs": [],
      "source": [
        "import pandas as pd\n",
        "import numpy as np\n",
        "import matplotlib.pyplot as plt\n",
        "import seaborn as sns"
      ]
    },
    {
      "cell_type": "code",
      "execution_count": 49,
      "metadata": {
        "id": "A4Auw1KN0MAm"
      },
      "outputs": [],
      "source": [
        "train = pd.read_csv('/content/drive/MyDrive/dataset/spaceship_titanic/train.csv')\n",
        "test = pd.read_csv('/content/drive/MyDrive/dataset/spaceship_titanic/test.csv')\n",
        "submission = pd.read_csv('/content/drive/MyDrive/dataset/spaceship_titanic/sample_submission.csv')"
      ]
    },
    {
      "cell_type": "code",
      "execution_count": 6,
      "metadata": {
        "colab": {
          "base_uri": "https://localhost:8080/",
          "height": 337
        },
        "id": "375YNuuA1SQf",
        "outputId": "7e2f3b83-4f45-4c6b-d396-471df11d7689"
      },
      "outputs": [
        {
          "data": {
            "text/html": [
              "\n",
              "  <div id=\"df-88168ec7-4916-4f98-8f47-f1a06ccca9a4\">\n",
              "    <div class=\"colab-df-container\">\n",
              "      <div>\n",
              "<style scoped>\n",
              "    .dataframe tbody tr th:only-of-type {\n",
              "        vertical-align: middle;\n",
              "    }\n",
              "\n",
              "    .dataframe tbody tr th {\n",
              "        vertical-align: top;\n",
              "    }\n",
              "\n",
              "    .dataframe thead th {\n",
              "        text-align: right;\n",
              "    }\n",
              "</style>\n",
              "<table border=\"1\" class=\"dataframe\">\n",
              "  <thead>\n",
              "    <tr style=\"text-align: right;\">\n",
              "      <th></th>\n",
              "      <th>PassengerId</th>\n",
              "      <th>HomePlanet</th>\n",
              "      <th>CryoSleep</th>\n",
              "      <th>Cabin</th>\n",
              "      <th>Destination</th>\n",
              "      <th>Age</th>\n",
              "      <th>VIP</th>\n",
              "      <th>RoomService</th>\n",
              "      <th>FoodCourt</th>\n",
              "      <th>ShoppingMall</th>\n",
              "      <th>Spa</th>\n",
              "      <th>VRDeck</th>\n",
              "      <th>Name</th>\n",
              "      <th>Transported</th>\n",
              "    </tr>\n",
              "  </thead>\n",
              "  <tbody>\n",
              "    <tr>\n",
              "      <th>0</th>\n",
              "      <td>0001_01</td>\n",
              "      <td>Europa</td>\n",
              "      <td>False</td>\n",
              "      <td>B/0/P</td>\n",
              "      <td>TRAPPIST-1e</td>\n",
              "      <td>39.0</td>\n",
              "      <td>False</td>\n",
              "      <td>0.0</td>\n",
              "      <td>0.0</td>\n",
              "      <td>0.0</td>\n",
              "      <td>0.0</td>\n",
              "      <td>0.0</td>\n",
              "      <td>Maham Ofracculy</td>\n",
              "      <td>False</td>\n",
              "    </tr>\n",
              "    <tr>\n",
              "      <th>1</th>\n",
              "      <td>0002_01</td>\n",
              "      <td>Earth</td>\n",
              "      <td>False</td>\n",
              "      <td>F/0/S</td>\n",
              "      <td>TRAPPIST-1e</td>\n",
              "      <td>24.0</td>\n",
              "      <td>False</td>\n",
              "      <td>109.0</td>\n",
              "      <td>9.0</td>\n",
              "      <td>25.0</td>\n",
              "      <td>549.0</td>\n",
              "      <td>44.0</td>\n",
              "      <td>Juanna Vines</td>\n",
              "      <td>True</td>\n",
              "    </tr>\n",
              "    <tr>\n",
              "      <th>2</th>\n",
              "      <td>0003_01</td>\n",
              "      <td>Europa</td>\n",
              "      <td>False</td>\n",
              "      <td>A/0/S</td>\n",
              "      <td>TRAPPIST-1e</td>\n",
              "      <td>58.0</td>\n",
              "      <td>True</td>\n",
              "      <td>43.0</td>\n",
              "      <td>3576.0</td>\n",
              "      <td>0.0</td>\n",
              "      <td>6715.0</td>\n",
              "      <td>49.0</td>\n",
              "      <td>Altark Susent</td>\n",
              "      <td>False</td>\n",
              "    </tr>\n",
              "    <tr>\n",
              "      <th>3</th>\n",
              "      <td>0003_02</td>\n",
              "      <td>Europa</td>\n",
              "      <td>False</td>\n",
              "      <td>A/0/S</td>\n",
              "      <td>TRAPPIST-1e</td>\n",
              "      <td>33.0</td>\n",
              "      <td>False</td>\n",
              "      <td>0.0</td>\n",
              "      <td>1283.0</td>\n",
              "      <td>371.0</td>\n",
              "      <td>3329.0</td>\n",
              "      <td>193.0</td>\n",
              "      <td>Solam Susent</td>\n",
              "      <td>False</td>\n",
              "    </tr>\n",
              "    <tr>\n",
              "      <th>4</th>\n",
              "      <td>0004_01</td>\n",
              "      <td>Earth</td>\n",
              "      <td>False</td>\n",
              "      <td>F/1/S</td>\n",
              "      <td>TRAPPIST-1e</td>\n",
              "      <td>16.0</td>\n",
              "      <td>False</td>\n",
              "      <td>303.0</td>\n",
              "      <td>70.0</td>\n",
              "      <td>151.0</td>\n",
              "      <td>565.0</td>\n",
              "      <td>2.0</td>\n",
              "      <td>Willy Santantines</td>\n",
              "      <td>True</td>\n",
              "    </tr>\n",
              "  </tbody>\n",
              "</table>\n",
              "</div>\n",
              "      <button class=\"colab-df-convert\" onclick=\"convertToInteractive('df-88168ec7-4916-4f98-8f47-f1a06ccca9a4')\"\n",
              "              title=\"Convert this dataframe to an interactive table.\"\n",
              "              style=\"display:none;\">\n",
              "        \n",
              "  <svg xmlns=\"http://www.w3.org/2000/svg\" height=\"24px\"viewBox=\"0 0 24 24\"\n",
              "       width=\"24px\">\n",
              "    <path d=\"M0 0h24v24H0V0z\" fill=\"none\"/>\n",
              "    <path d=\"M18.56 5.44l.94 2.06.94-2.06 2.06-.94-2.06-.94-.94-2.06-.94 2.06-2.06.94zm-11 1L8.5 8.5l.94-2.06 2.06-.94-2.06-.94L8.5 2.5l-.94 2.06-2.06.94zm10 10l.94 2.06.94-2.06 2.06-.94-2.06-.94-.94-2.06-.94 2.06-2.06.94z\"/><path d=\"M17.41 7.96l-1.37-1.37c-.4-.4-.92-.59-1.43-.59-.52 0-1.04.2-1.43.59L10.3 9.45l-7.72 7.72c-.78.78-.78 2.05 0 2.83L4 21.41c.39.39.9.59 1.41.59.51 0 1.02-.2 1.41-.59l7.78-7.78 2.81-2.81c.8-.78.8-2.07 0-2.86zM5.41 20L4 18.59l7.72-7.72 1.47 1.35L5.41 20z\"/>\n",
              "  </svg>\n",
              "      </button>\n",
              "      \n",
              "  <style>\n",
              "    .colab-df-container {\n",
              "      display:flex;\n",
              "      flex-wrap:wrap;\n",
              "      gap: 12px;\n",
              "    }\n",
              "\n",
              "    .colab-df-convert {\n",
              "      background-color: #E8F0FE;\n",
              "      border: none;\n",
              "      border-radius: 50%;\n",
              "      cursor: pointer;\n",
              "      display: none;\n",
              "      fill: #1967D2;\n",
              "      height: 32px;\n",
              "      padding: 0 0 0 0;\n",
              "      width: 32px;\n",
              "    }\n",
              "\n",
              "    .colab-df-convert:hover {\n",
              "      background-color: #E2EBFA;\n",
              "      box-shadow: 0px 1px 2px rgba(60, 64, 67, 0.3), 0px 1px 3px 1px rgba(60, 64, 67, 0.15);\n",
              "      fill: #174EA6;\n",
              "    }\n",
              "\n",
              "    [theme=dark] .colab-df-convert {\n",
              "      background-color: #3B4455;\n",
              "      fill: #D2E3FC;\n",
              "    }\n",
              "\n",
              "    [theme=dark] .colab-df-convert:hover {\n",
              "      background-color: #434B5C;\n",
              "      box-shadow: 0px 1px 3px 1px rgba(0, 0, 0, 0.15);\n",
              "      filter: drop-shadow(0px 1px 2px rgba(0, 0, 0, 0.3));\n",
              "      fill: #FFFFFF;\n",
              "    }\n",
              "  </style>\n",
              "\n",
              "      <script>\n",
              "        const buttonEl =\n",
              "          document.querySelector('#df-88168ec7-4916-4f98-8f47-f1a06ccca9a4 button.colab-df-convert');\n",
              "        buttonEl.style.display =\n",
              "          google.colab.kernel.accessAllowed ? 'block' : 'none';\n",
              "\n",
              "        async function convertToInteractive(key) {\n",
              "          const element = document.querySelector('#df-88168ec7-4916-4f98-8f47-f1a06ccca9a4');\n",
              "          const dataTable =\n",
              "            await google.colab.kernel.invokeFunction('convertToInteractive',\n",
              "                                                     [key], {});\n",
              "          if (!dataTable) return;\n",
              "\n",
              "          const docLinkHtml = 'Like what you see? Visit the ' +\n",
              "            '<a target=\"_blank\" href=https://colab.research.google.com/notebooks/data_table.ipynb>data table notebook</a>'\n",
              "            + ' to learn more about interactive tables.';\n",
              "          element.innerHTML = '';\n",
              "          dataTable['output_type'] = 'display_data';\n",
              "          await google.colab.output.renderOutput(dataTable, element);\n",
              "          const docLink = document.createElement('div');\n",
              "          docLink.innerHTML = docLinkHtml;\n",
              "          element.appendChild(docLink);\n",
              "        }\n",
              "      </script>\n",
              "    </div>\n",
              "  </div>\n",
              "  "
            ],
            "text/plain": [
              "  PassengerId HomePlanet CryoSleep  Cabin  Destination   Age    VIP  \\\n",
              "0     0001_01     Europa     False  B/0/P  TRAPPIST-1e  39.0  False   \n",
              "1     0002_01      Earth     False  F/0/S  TRAPPIST-1e  24.0  False   \n",
              "2     0003_01     Europa     False  A/0/S  TRAPPIST-1e  58.0   True   \n",
              "3     0003_02     Europa     False  A/0/S  TRAPPIST-1e  33.0  False   \n",
              "4     0004_01      Earth     False  F/1/S  TRAPPIST-1e  16.0  False   \n",
              "\n",
              "   RoomService  FoodCourt  ShoppingMall     Spa  VRDeck               Name  \\\n",
              "0          0.0        0.0           0.0     0.0     0.0    Maham Ofracculy   \n",
              "1        109.0        9.0          25.0   549.0    44.0       Juanna Vines   \n",
              "2         43.0     3576.0           0.0  6715.0    49.0      Altark Susent   \n",
              "3          0.0     1283.0         371.0  3329.0   193.0       Solam Susent   \n",
              "4        303.0       70.0         151.0   565.0     2.0  Willy Santantines   \n",
              "\n",
              "   Transported  \n",
              "0        False  \n",
              "1         True  \n",
              "2        False  \n",
              "3        False  \n",
              "4         True  "
            ]
          },
          "execution_count": 6,
          "metadata": {},
          "output_type": "execute_result"
        }
      ],
      "source": [
        "train.head()"
      ]
    },
    {
      "cell_type": "code",
      "execution_count": 7,
      "metadata": {
        "colab": {
          "base_uri": "https://localhost:8080/"
        },
        "id": "Ni6vhIS51YpQ",
        "outputId": "4b499603-0d1b-4d44-f4fa-4e51f5f1981c"
      },
      "outputs": [
        {
          "name": "stdout",
          "output_type": "stream",
          "text": [
            "<class 'pandas.core.frame.DataFrame'>\n",
            "RangeIndex: 8693 entries, 0 to 8692\n",
            "Data columns (total 14 columns):\n",
            " #   Column        Non-Null Count  Dtype  \n",
            "---  ------        --------------  -----  \n",
            " 0   PassengerId   8693 non-null   object \n",
            " 1   HomePlanet    8492 non-null   object \n",
            " 2   CryoSleep     8476 non-null   object \n",
            " 3   Cabin         8494 non-null   object \n",
            " 4   Destination   8511 non-null   object \n",
            " 5   Age           8514 non-null   float64\n",
            " 6   VIP           8490 non-null   object \n",
            " 7   RoomService   8512 non-null   float64\n",
            " 8   FoodCourt     8510 non-null   float64\n",
            " 9   ShoppingMall  8485 non-null   float64\n",
            " 10  Spa           8510 non-null   float64\n",
            " 11  VRDeck        8505 non-null   float64\n",
            " 12  Name          8493 non-null   object \n",
            " 13  Transported   8693 non-null   bool   \n",
            "dtypes: bool(1), float64(6), object(7)\n",
            "memory usage: 891.5+ KB\n",
            "None\n",
            "               Age   RoomService     FoodCourt  ShoppingMall           Spa  \\\n",
            "count  8514.000000   8512.000000   8510.000000   8485.000000   8510.000000   \n",
            "mean     28.827930    224.687617    458.077203    173.729169    311.138778   \n",
            "std      14.489021    666.717663   1611.489240    604.696458   1136.705535   \n",
            "min       0.000000      0.000000      0.000000      0.000000      0.000000   \n",
            "25%      19.000000      0.000000      0.000000      0.000000      0.000000   \n",
            "50%      27.000000      0.000000      0.000000      0.000000      0.000000   \n",
            "75%      38.000000     47.000000     76.000000     27.000000     59.000000   \n",
            "max      79.000000  14327.000000  29813.000000  23492.000000  22408.000000   \n",
            "\n",
            "             VRDeck  \n",
            "count   8505.000000  \n",
            "mean     304.854791  \n",
            "std     1145.717189  \n",
            "min        0.000000  \n",
            "25%        0.000000  \n",
            "50%        0.000000  \n",
            "75%       46.000000  \n",
            "max    24133.000000  \n"
          ]
        }
      ],
      "source": [
        "print(train.info())\n",
        "print(train.describe())"
      ]
    },
    {
      "cell_type": "code",
      "execution_count": 8,
      "metadata": {
        "colab": {
          "base_uri": "https://localhost:8080/"
        },
        "id": "bC1bOh0OJvBO",
        "outputId": "21ec6fdc-bbf6-4d23-bffe-f88fc264805a"
      },
      "outputs": [
        {
          "name": "stdout",
          "output_type": "stream",
          "text": [
            "               Age   RoomService     FoodCourt  ShoppingMall           Spa  \\\n",
            "count  4186.000000   4195.000000   4171.000000   4179.000000   4176.000000   \n",
            "mean     28.658146    219.266269    439.484296    177.295525    303.052443   \n",
            "std      14.179072    607.011289   1527.663045    560.821123   1117.186015   \n",
            "min       0.000000      0.000000      0.000000      0.000000      0.000000   \n",
            "25%      19.000000      0.000000      0.000000      0.000000      0.000000   \n",
            "50%      26.000000      0.000000      0.000000      0.000000      0.000000   \n",
            "75%      37.000000     53.000000     78.000000     33.000000     50.000000   \n",
            "max      79.000000  11567.000000  25273.000000   8292.000000  19844.000000   \n",
            "\n",
            "             VRDeck  \n",
            "count   4197.000000  \n",
            "mean     310.710031  \n",
            "std     1246.994742  \n",
            "min        0.000000  \n",
            "25%        0.000000  \n",
            "50%        0.000000  \n",
            "75%       36.000000  \n",
            "max    22272.000000  \n"
          ]
        }
      ],
      "source": [
        "print(test.describe())"
      ]
    },
    {
      "cell_type": "code",
      "execution_count": null,
      "metadata": {
        "colab": {
          "base_uri": "https://localhost:8080/",
          "height": 507
        },
        "id": "V6JJJWnax9j4",
        "outputId": "22f57f54-bab5-4708-ce09-633ded0c6e16"
      },
      "outputs": [
        {
          "name": "stdout",
          "output_type": "stream",
          "text": [
            "skewness: 0.42\n",
            "kurtosis: 0.1\n"
          ]
        },
        {
          "data": {
            "image/png": "[encoded data removed]",
            "text/plain": [
              "<Figure size 640x480 with 1 Axes>"
            ]
          },
          "metadata": {},
          "output_type": "display_data"
        }
      ],
      "source": [
        "skewness = round(train['Age'].skew(), 2)\n",
        "kurtosis = round(train['Age'].kurt(), 2)\n",
        "print(f'skewness: {skewness}')\n",
        "print(f'kurtosis: {kurtosis}')\n",
        "sns.histplot(train['Age'], kde=True, bins=50)\n",
        "plt.title('Age')\n",
        "plt.show()"
      ]
    },
    {
      "cell_type": "code",
      "execution_count": null,
      "metadata": {
        "colab": {
          "base_uri": "https://localhost:8080/",
          "height": 507
        },
        "id": "ckHufbiR3a_V",
        "outputId": "d5b019bc-f59b-421e-c2b8-2b940bc6942d"
      },
      "outputs": [
        {
          "name": "stdout",
          "output_type": "stream",
          "text": [
            "skewness: 6.33\n",
            "kurtosis: 65.27\n"
          ]
        },
        {
          "data": {
            "image/png": "[encoded data removed]",
            "text/plain": [
              "<Figure size 640x480 with 1 Axes>"
            ]
          },
          "metadata": {},
          "output_type": "display_data"
        }
      ],
      "source": [
        "skewness = round(train['RoomService'].skew(), 2)\n",
        "kurtosis = round(train['RoomService'].kurt(), 2)\n",
        "print(f'skewness: {skewness}')\n",
        "print(f'kurtosis: {kurtosis}')\n",
        "sns.histplot(train['RoomService'], kde=True, bins=50);\n",
        "plt.title('RoomService')\n",
        "plt.show()"
      ]
    },
    {
      "cell_type": "code",
      "execution_count": null,
      "metadata": {
        "colab": {
          "base_uri": "https://localhost:8080/",
          "height": 507
        },
        "id": "AZMeEm54QYgN",
        "outputId": "94c87381-c015-4e96-ac9f-70afcbbc5d2b"
      },
      "outputs": [
        {
          "name": "stdout",
          "output_type": "stream",
          "text": [
            "skewness: 7.1\n",
            "kurtosis: 73.31\n"
          ]
        },
        {
          "data": {
            "image/png": "[encoded data removed]",
            "text/plain": [
              "<Figure size 640x480 with 1 Axes>"
            ]
          },
          "metadata": {},
          "output_type": "display_data"
        }
      ],
      "source": [
        "skewness = round(train['FoodCourt'].skew(), 2)\n",
        "kurtosis = round(train['FoodCourt'].kurt(), 2)\n",
        "print(f'skewness: {skewness}')\n",
        "print(f'kurtosis: {kurtosis}')\n",
        "sns.histplot(train['FoodCourt'], kde=True, bins=50)\n",
        "plt.title('FoodCourt')\n",
        "plt.show()"
      ]
    },
    {
      "cell_type": "code",
      "execution_count": null,
      "metadata": {
        "colab": {
          "base_uri": "https://localhost:8080/",
          "height": 507
        },
        "id": "wfuHLiqHRqzV",
        "outputId": "fd4f8539-5ad5-4a65-b3d1-628b74a453ac"
      },
      "outputs": [
        {
          "name": "stdout",
          "output_type": "stream",
          "text": [
            "skewness: 12.63\n",
            "kurtosis: 328.87\n"
          ]
        },
        {
          "data": {
            "image/png": "[encoded data removed]",
            "text/plain": [
              "<Figure size 640x480 with 1 Axes>"
            ]
          },
          "metadata": {},
          "output_type": "display_data"
        }
      ],
      "source": [
        "skewness = round(train['ShoppingMall'].skew(), 2)\n",
        "kurtosis = round(train['ShoppingMall'].kurt(), 2)\n",
        "print(f'skewness: {skewness}')\n",
        "print(f'kurtosis: {kurtosis}')\n",
        "sns.histplot(train['ShoppingMall'], kde=True, bins=50)\n",
        "plt.title('ShoppingMall')\n",
        "plt.show()"
      ]
    },
    {
      "cell_type": "code",
      "execution_count": null,
      "metadata": {
        "colab": {
          "base_uri": "https://localhost:8080/",
          "height": 507
        },
        "id": "nTwXvWa4R0M7",
        "outputId": "307e19e3-a509-4b7d-d3e2-db190f0dadeb"
      },
      "outputs": [
        {
          "name": "stdout",
          "output_type": "stream",
          "text": [
            "skewness: 7.64\n",
            "kurtosis: 81.2\n"
          ]
        },
        {
          "data": {
            "image/png": "[encoded data removed]",
            "text/plain": [
              "<Figure size 640x480 with 1 Axes>"
            ]
          },
          "metadata": {},
          "output_type": "display_data"
        }
      ],
      "source": [
        "skewness = round(train['Spa'].skew(), 2)\n",
        "kurtosis = round(train['Spa'].kurt(), 2)\n",
        "print(f'skewness: {skewness}')\n",
        "print(f'kurtosis: {kurtosis}')\n",
        "sns.histplot(train['Spa'], kde=True, bins=50)\n",
        "plt.title('Spa')\n",
        "plt.show()"
      ]
    },
    {
      "cell_type": "code",
      "execution_count": null,
      "metadata": {
        "colab": {
          "base_uri": "https://localhost:8080/",
          "height": 507
        },
        "id": "hBVzNRqJR_Dy",
        "outputId": "24aa7fc9-3cee-457c-e26e-1a321a6af2f2"
      },
      "outputs": [
        {
          "name": "stdout",
          "output_type": "stream",
          "text": [
            "skewness: 7.82\n",
            "kurtosis: 86.01\n"
          ]
        },
        {
          "data": {
            "image/png": "[encoded data removed]",
            "text/plain": [
              "<Figure size 640x480 with 1 Axes>"
            ]
          },
          "metadata": {},
          "output_type": "display_data"
        }
      ],
      "source": [
        "skewness = round(train['VRDeck'].skew(), 2)\n",
        "kurtosis = round(train['VRDeck'].kurt(), 2)\n",
        "print(f'skewness: {skewness}')\n",
        "print(f'kurtosis: {kurtosis}')\n",
        "sns.histplot(train['VRDeck'], kde=True, bins=50)\n",
        "plt.title('VRDeck')\n",
        "plt.show()"
      ]
    },
    {
      "cell_type": "code",
      "execution_count": null,
      "metadata": {
        "colab": {
          "base_uri": "https://localhost:8080/",
          "height": 507
        },
        "id": "1qteQCwFSrkI",
        "outputId": "7d7787ac-a990-46b5-d10a-d61bf267f961"
      },
      "outputs": [
        {
          "name": "stdout",
          "output_type": "stream",
          "text": [
            "skewness: 2.34\n",
            "kurtosis: 6.21\n"
          ]
        },
        {
          "data": {
            "image/png": "[encoded data removed]",
            "text/plain": [
              "<Figure size 640x480 with 1 Axes>"
            ]
          },
          "metadata": {},
          "output_type": "display_data"
        }
      ],
      "source": [
        "# Square root transform (RoomService)\n",
        "train['RoomService'] = np.sqrt(train['RoomService'])\n",
        "\n",
        "skewness = round(train['RoomService'].skew(), 2)\n",
        "kurtosis = round(train['RoomService'].kurt(), 2)\n",
        "print(f'skewness: {skewness}')\n",
        "print(f'kurtosis: {kurtosis}')\n",
        "\n",
        "sns.histplot(train['RoomService'], kde=True, bins=50)\n",
        "plt.title('RoomService')\n",
        "plt.show()"
      ]
    },
    {
      "cell_type": "code",
      "execution_count": 9,
      "metadata": {
        "colab": {
          "base_uri": "https://localhost:8080/",
          "height": 507
        },
        "id": "nAq02sPbTW6w",
        "outputId": "6c94a0e8-a104-4787-ca1d-d32e262b3185"
      },
      "outputs": [
        {
          "name": "stdout",
          "output_type": "stream",
          "text": [
            "skewness: 1.63\n",
            "kurtosis: 1.74\n"
          ]
        },
        {
          "data": {
            "image/png": "[encoded data removed]",
            "text/plain": [
              "<Figure size 640x480 with 1 Axes>"
            ]
          },
          "metadata": {},
          "output_type": "display_data"
        }
      ],
      "source": [
        "# cube root transform (RoomService)\n",
        "# This is better than square root\n",
        "train['RoomService'] = np.cbrt(train['RoomService'])\n",
        "\n",
        "skewness = round(train['RoomService'].skew(), 2)\n",
        "kurtosis = round(train['RoomService'].kurt(), 2)\n",
        "print(f'skewness: {skewness}')\n",
        "print(f'kurtosis: {kurtosis}')\n",
        "\n",
        "sns.histplot(train['RoomService'], kde=True, bins=50)\n",
        "plt.title('RoomService')\n",
        "plt.show()"
      ]
    },
    {
      "cell_type": "code",
      "execution_count": 10,
      "metadata": {
        "colab": {
          "base_uri": "https://localhost:8080/",
          "height": 507
        },
        "id": "WLGmWHmtVDo0",
        "outputId": "80e01bdb-6842-45c2-adfd-871b8efeb78d"
      },
      "outputs": [
        {
          "name": "stdout",
          "output_type": "stream",
          "text": [
            "skewness: 1.92\n",
            "kurtosis: 3.32\n"
          ]
        },
        {
          "data": {
            "image/png": "[encoded data removed]",
            "text/plain": [
              "<Figure size 640x480 with 1 Axes>"
            ]
          },
          "metadata": {},
          "output_type": "display_data"
        }
      ],
      "source": [
        "# cube root transform (FoodCourt)\n",
        "train['FoodCourt'] = np.cbrt(train['FoodCourt'])\n",
        "\n",
        "skewness = round(train['FoodCourt'].skew(), 2)\n",
        "kurtosis = round(train['FoodCourt'].kurt(), 2)\n",
        "print(f'skewness: {skewness}')\n",
        "print(f'kurtosis: {kurtosis}')\n",
        "\n",
        "sns.histplot(train['FoodCourt'], kde=True, bins=50)\n",
        "plt.title('FoodCourt')\n",
        "plt.show()"
      ]
    },
    {
      "cell_type": "code",
      "execution_count": 11,
      "metadata": {
        "colab": {
          "base_uri": "https://localhost:8080/",
          "height": 507
        },
        "id": "mPOr8ziRWFgQ",
        "outputId": "719383fb-2bcd-4c0a-d130-dacbc0a96b66"
      },
      "outputs": [
        {
          "name": "stdout",
          "output_type": "stream",
          "text": [
            "skewness: 2.7\n",
            "kurtosis: 10.45\n"
          ]
        },
        {
          "data": {
            "image/png": "[encoded data removed]",
            "text/plain": [
              "<Figure size 640x480 with 1 Axes>"
            ]
          },
          "metadata": {},
          "output_type": "display_data"
        }
      ],
      "source": [
        "# cube root transform (ShoppingMall)\n",
        "train['ShoppingMall'] = np.sqrt(train['ShoppingMall'])\n",
        "\n",
        "skewness = round(train['ShoppingMall'].skew(), 2)\n",
        "kurtosis = round(train['ShoppingMall'].kurt(), 2)\n",
        "print(f'skewness: {skewness}')\n",
        "print(f'kurtosis: {kurtosis}')\n",
        "\n",
        "sns.histplot(train['ShoppingMall'], kde=True, bins=50)\n",
        "plt.title('ShoppingMall')\n",
        "plt.show()"
      ]
    },
    {
      "cell_type": "code",
      "execution_count": 12,
      "metadata": {
        "colab": {
          "base_uri": "https://localhost:8080/",
          "height": 507
        },
        "id": "IqVHgOYFWYfB",
        "outputId": "593702ed-9c56-4df3-a087-164c750146b7"
      },
      "outputs": [
        {
          "name": "stdout",
          "output_type": "stream",
          "text": [
            "skewness: 3.02\n",
            "kurtosis: 11.56\n"
          ]
        },
        {
          "data": {
            "image/png": "[encoded data removed]",
            "text/plain": [
              "<Figure size 640x480 with 1 Axes>"
            ]
          },
          "metadata": {},
          "output_type": "display_data"
        }
      ],
      "source": [
        "# cube root transform (Spa)\n",
        "train['Spa'] = np.sqrt(train['Spa'])\n",
        "\n",
        "skewness = round(train['Spa'].skew(), 2)\n",
        "kurtosis = round(train['Spa'].kurt(), 2)\n",
        "print(f'skewness: {skewness}')\n",
        "print(f'kurtosis: {kurtosis}')\n",
        "\n",
        "sns.histplot(train['Spa'], kde=True, bins=50)\n",
        "plt.title('Spa')\n",
        "plt.show()"
      ]
    },
    {
      "cell_type": "code",
      "execution_count": 13,
      "metadata": {
        "colab": {
          "base_uri": "https://localhost:8080/",
          "height": 507
        },
        "id": "ZXxnc-D-WBWm",
        "outputId": "4015838e-e1cb-45ad-9c55-591dcbb8777c"
      },
      "outputs": [
        {
          "name": "stdout",
          "output_type": "stream",
          "text": [
            "skewness: 3.11\n",
            "kurtosis: 12.33\n"
          ]
        },
        {
          "data": {
            "image/png": "[encoded data removed]",
            "text/plain": [
              "<Figure size 640x480 with 1 Axes>"
            ]
          },
          "metadata": {},
          "output_type": "display_data"
        }
      ],
      "source": [
        "# cube root transform (VRDeck)\n",
        "train['VRDeck'] = np.sqrt(train['VRDeck'])\n",
        "\n",
        "skewness = round(train['VRDeck'].skew(), 2)\n",
        "kurtosis = round(train['VRDeck'].kurt(), 2)\n",
        "print(f'skewness: {skewness}')\n",
        "print(f'kurtosis: {kurtosis}')\n",
        "\n",
        "sns.histplot(train['VRDeck'], kde=True, bins=50)\n",
        "plt.title('VRDeck')\n",
        "plt.show()"
      ]
    },
    {
      "cell_type": "code",
      "execution_count": null,
      "metadata": {
        "colab": {
          "base_uri": "https://localhost:8080/"
        },
        "id": "YxfN3n1cWrnU",
        "outputId": "4db62a46-c7bd-4651-bca2-ac52734fa3df"
      },
      "outputs": [
        {
          "name": "stdout",
          "output_type": "stream",
          "text": [
            "The shape before removing outliers:  (8693, 17)\n",
            "Shape of the after outliers (8531, 17)\n"
          ]
        }
      ],
      "source": [
        "# Remove outliers (不做)\n",
        "print('The shape before removing outliers: ', train.shape)\n",
        "n = 1.5\n",
        "# IQR = Q3 - Q1\n",
        "IQR = np.nanpercentile(train['Age'], 75) - np.nanpercentile(train['Age'], 25)\n",
        "\n",
        "# Upper outliers = Q3 + n*IQR\n",
        "train = train[train['Age'] < np.nanpercentile(train['Age'], 75) + n*IQR]\n",
        "\n",
        "# Lower outliers = Q1 - n*IQR\n",
        "train = train[train['Age'] > np.percentile(train['Age'], 25) - n*IQR]\n",
        "print('Shape of the after outliers', train.shape)"
      ]
    },
    {
      "cell_type": "code",
      "execution_count": 14,
      "metadata": {
        "colab": {
          "base_uri": "https://localhost:8080/"
        },
        "id": "nvsExBeLDvOG",
        "outputId": "17ab13d6-1038-4842-ba7a-b2dd134f04ac"
      },
      "outputs": [
        {
          "name": "stdout",
          "output_type": "stream",
          "text": [
            "PassengerId       0\n",
            "HomePlanet      201\n",
            "CryoSleep       217\n",
            "Cabin           199\n",
            "Destination     182\n",
            "Age             179\n",
            "VIP             203\n",
            "RoomService     181\n",
            "FoodCourt       183\n",
            "ShoppingMall    208\n",
            "Spa             183\n",
            "VRDeck          188\n",
            "Name            200\n",
            "Transported       0\n",
            "dtype: int64\n"
          ]
        }
      ],
      "source": [
        "# Observe missing value\n",
        "print(train.isnull().sum())"
      ]
    },
    {
      "cell_type": "code",
      "execution_count": null,
      "metadata": {
        "colab": {
          "base_uri": "https://localhost:8080/"
        },
        "id": "SfzgsnrxEysd",
        "outputId": "4289a380-75f5-4587-f8a3-99f669f77d8b"
      },
      "outputs": [
        {
          "data": {
            "text/plain": [
              "Earth     4602\n",
              "Europa    2131\n",
              "Mars      1759\n",
              "Name: HomePlanet, dtype: int64"
            ]
          },
          "execution_count": 37,
          "metadata": {},
          "output_type": "execute_result"
        }
      ],
      "source": [
        "train['HomePlanet'].value_counts()"
      ]
    },
    {
      "cell_type": "code",
      "execution_count": 15,
      "metadata": {
        "id": "q2ra0NR-FSG5"
      },
      "outputs": [],
      "source": [
        "train.loc[train['HomePlanet'].isnull(), 'HomePlanet'] = 'Earth'"
      ]
    },
    {
      "cell_type": "code",
      "execution_count": null,
      "metadata": {
        "colab": {
          "base_uri": "https://localhost:8080/"
        },
        "id": "QirfugX6FfyI",
        "outputId": "f7c36d56-6ea8-44c5-d13f-5db4cbcfa817"
      },
      "outputs": [
        {
          "data": {
            "text/plain": [
              "False    5439\n",
              "True     3037\n",
              "Name: CryoSleep, dtype: int64"
            ]
          },
          "execution_count": 39,
          "metadata": {},
          "output_type": "execute_result"
        }
      ],
      "source": [
        "train['CryoSleep'].value_counts()"
      ]
    },
    {
      "cell_type": "code",
      "execution_count": 16,
      "metadata": {
        "id": "CRjBULijFng6"
      },
      "outputs": [],
      "source": [
        "train.loc[train['CryoSleep'].isnull(), 'CryoSleep'] = False"
      ]
    },
    {
      "cell_type": "code",
      "execution_count": null,
      "metadata": {
        "colab": {
          "base_uri": "https://localhost:8080/"
        },
        "id": "Z5ZFyvfwF9cZ",
        "outputId": "7fdbd4fd-7bda-4708-f6d5-f5aa20e9187b"
      },
      "outputs": [
        {
          "data": {
            "text/plain": [
              "G/734/S     8\n",
              "G/109/P     7\n",
              "B/201/P     7\n",
              "G/1368/P    7\n",
              "G/981/S     7\n",
              "           ..\n",
              "G/556/P     1\n",
              "E/231/S     1\n",
              "G/545/S     1\n",
              "G/543/S     1\n",
              "F/947/P     1\n",
              "Name: Cabin, Length: 6560, dtype: int64"
            ]
          },
          "execution_count": 41,
          "metadata": {},
          "output_type": "execute_result"
        }
      ],
      "source": [
        "train['Cabin'].value_counts()"
      ]
    },
    {
      "cell_type": "code",
      "execution_count": 17,
      "metadata": {
        "id": "wcfW5Do9GCwZ"
      },
      "outputs": [],
      "source": [
        "train.loc[train['Cabin'].isnull(), 'Cabin'] = 'G/734/S'\n",
        "#print(train.shape)\n",
        "#train = train.dropna(subset=['Cabin'])\n",
        "#print(train.shape)"
      ]
    },
    {
      "cell_type": "code",
      "execution_count": null,
      "metadata": {
        "colab": {
          "base_uri": "https://localhost:8080/"
        },
        "id": "1PiAdAIbGPH6",
        "outputId": "1b3f942d-5d2e-4fd8-bcb6-8e7c4c032045"
      },
      "outputs": [
        {
          "data": {
            "text/plain": [
              "TRAPPIST-1e      5915\n",
              "55 Cancri e      1800\n",
              "PSO J318.5-22     796\n",
              "Name: Destination, dtype: int64"
            ]
          },
          "execution_count": 43,
          "metadata": {},
          "output_type": "execute_result"
        }
      ],
      "source": [
        "train['Destination'].value_counts()"
      ]
    },
    {
      "cell_type": "code",
      "execution_count": 18,
      "metadata": {
        "id": "FiWfanu7GUmu"
      },
      "outputs": [],
      "source": [
        "train.loc[train['Destination'].isnull(), 'Destination'] = 'TRAPPIST-1e'"
      ]
    },
    {
      "cell_type": "code",
      "execution_count": null,
      "metadata": {
        "colab": {
          "base_uri": "https://localhost:8080/"
        },
        "id": "gSz8qUwnGeN2",
        "outputId": "85055653-d807-4f7d-83bd-ed2440053d47"
      },
      "outputs": [
        {
          "data": {
            "text/plain": [
              "False    8291\n",
              "True      199\n",
              "Name: VIP, dtype: int64"
            ]
          },
          "execution_count": 45,
          "metadata": {},
          "output_type": "execute_result"
        }
      ],
      "source": [
        "train['VIP'].value_counts()"
      ]
    },
    {
      "cell_type": "code",
      "execution_count": 19,
      "metadata": {
        "id": "NOmGRlosGgzR"
      },
      "outputs": [],
      "source": [
        "train.loc[train['VIP'].isnull(), 'VIP'] = False"
      ]
    },
    {
      "cell_type": "code",
      "execution_count": 20,
      "metadata": {
        "id": "4XMlI31nHJ_r"
      },
      "outputs": [],
      "source": [
        "train.loc[train['Age'].isnull(), 'Age'] = train['Age'].median()\n",
        "train.loc[train['RoomService'].isnull(), 'RoomService'] = train['RoomService'].median()\n",
        "train.loc[train['FoodCourt'].isnull(), 'FoodCourt'] = train['FoodCourt'].median()\n",
        "train.loc[train['ShoppingMall'].isnull(), 'ShoppingMall'] = train['ShoppingMall'].median()\n",
        "train.loc[train['Spa'].isnull(), 'Spa'] = train['Spa'].median()\n",
        "train.loc[train['VRDeck'].isnull(), 'VRDeck'] = train['VRDeck'].median()"
      ]
    },
    {
      "cell_type": "code",
      "execution_count": null,
      "metadata": {
        "colab": {
          "base_uri": "https://localhost:8080/"
        },
        "id": "gLwVA6oqHxA8",
        "outputId": "9ef26f73-a281-42c6-b359-7e39e2aa97a1"
      },
      "outputs": [
        {
          "data": {
            "text/plain": [
              "PassengerId       0\n",
              "HomePlanet        0\n",
              "CryoSleep         0\n",
              "Cabin             0\n",
              "Destination       0\n",
              "Age               0\n",
              "VIP               0\n",
              "RoomService       0\n",
              "FoodCourt         0\n",
              "ShoppingMall      0\n",
              "Spa               0\n",
              "VRDeck            0\n",
              "Name            200\n",
              "Transported       0\n",
              "dtype: int64"
            ]
          },
          "execution_count": 215,
          "metadata": {},
          "output_type": "execute_result"
        }
      ],
      "source": [
        "train.isnull().sum()"
      ]
    },
    {
      "cell_type": "code",
      "execution_count": 21,
      "metadata": {
        "colab": {
          "base_uri": "https://localhost:8080/",
          "height": 357
        },
        "id": "H1yDmU_bKH-t",
        "outputId": "a7603e8a-5e3f-4595-9000-4acc27465db0"
      },
      "outputs": [
        {
          "data": {
            "text/html": [
              "\n",
              "  <div id=\"df-2f534530-51fb-4c7e-9423-73a486f93798\">\n",
              "    <div class=\"colab-df-container\">\n",
              "      <div>\n",
              "<style scoped>\n",
              "    .dataframe tbody tr th:only-of-type {\n",
              "        vertical-align: middle;\n",
              "    }\n",
              "\n",
              "    .dataframe tbody tr th {\n",
              "        vertical-align: top;\n",
              "    }\n",
              "\n",
              "    .dataframe thead th {\n",
              "        text-align: right;\n",
              "    }\n",
              "</style>\n",
              "<table border=\"1\" class=\"dataframe\">\n",
              "  <thead>\n",
              "    <tr style=\"text-align: right;\">\n",
              "      <th></th>\n",
              "      <th>PassengerId</th>\n",
              "      <th>HomePlanet</th>\n",
              "      <th>CryoSleep</th>\n",
              "      <th>Cabin</th>\n",
              "      <th>Destination</th>\n",
              "      <th>Age</th>\n",
              "      <th>VIP</th>\n",
              "      <th>RoomService</th>\n",
              "      <th>FoodCourt</th>\n",
              "      <th>ShoppingMall</th>\n",
              "      <th>Spa</th>\n",
              "      <th>VRDeck</th>\n",
              "      <th>Name</th>\n",
              "      <th>Transported</th>\n",
              "      <th>Cabin_1</th>\n",
              "      <th>Cabin_2</th>\n",
              "      <th>Cabin_3</th>\n",
              "    </tr>\n",
              "  </thead>\n",
              "  <tbody>\n",
              "    <tr>\n",
              "      <th>0</th>\n",
              "      <td>0001_01</td>\n",
              "      <td>Europa</td>\n",
              "      <td>False</td>\n",
              "      <td>B/0/P</td>\n",
              "      <td>TRAPPIST-1e</td>\n",
              "      <td>39.0</td>\n",
              "      <td>False</td>\n",
              "      <td>0.000000</td>\n",
              "      <td>0.000000</td>\n",
              "      <td>0.000000</td>\n",
              "      <td>0.000000</td>\n",
              "      <td>0.000000</td>\n",
              "      <td>Maham Ofracculy</td>\n",
              "      <td>False</td>\n",
              "      <td>B</td>\n",
              "      <td>0</td>\n",
              "      <td>P</td>\n",
              "    </tr>\n",
              "    <tr>\n",
              "      <th>1</th>\n",
              "      <td>0002_01</td>\n",
              "      <td>Earth</td>\n",
              "      <td>False</td>\n",
              "      <td>F/0/S</td>\n",
              "      <td>TRAPPIST-1e</td>\n",
              "      <td>24.0</td>\n",
              "      <td>False</td>\n",
              "      <td>4.776856</td>\n",
              "      <td>2.080084</td>\n",
              "      <td>5.000000</td>\n",
              "      <td>23.430749</td>\n",
              "      <td>6.633250</td>\n",
              "      <td>Juanna Vines</td>\n",
              "      <td>True</td>\n",
              "      <td>F</td>\n",
              "      <td>0</td>\n",
              "      <td>S</td>\n",
              "    </tr>\n",
              "    <tr>\n",
              "      <th>2</th>\n",
              "      <td>0003_01</td>\n",
              "      <td>Europa</td>\n",
              "      <td>False</td>\n",
              "      <td>A/0/S</td>\n",
              "      <td>TRAPPIST-1e</td>\n",
              "      <td>58.0</td>\n",
              "      <td>True</td>\n",
              "      <td>3.503398</td>\n",
              "      <td>15.292054</td>\n",
              "      <td>0.000000</td>\n",
              "      <td>81.945104</td>\n",
              "      <td>7.000000</td>\n",
              "      <td>Altark Susent</td>\n",
              "      <td>False</td>\n",
              "      <td>A</td>\n",
              "      <td>0</td>\n",
              "      <td>S</td>\n",
              "    </tr>\n",
              "    <tr>\n",
              "      <th>3</th>\n",
              "      <td>0003_02</td>\n",
              "      <td>Europa</td>\n",
              "      <td>False</td>\n",
              "      <td>A/0/S</td>\n",
              "      <td>TRAPPIST-1e</td>\n",
              "      <td>33.0</td>\n",
              "      <td>False</td>\n",
              "      <td>0.000000</td>\n",
              "      <td>10.866146</td>\n",
              "      <td>19.261360</td>\n",
              "      <td>57.697487</td>\n",
              "      <td>13.892444</td>\n",
              "      <td>Solam Susent</td>\n",
              "      <td>False</td>\n",
              "      <td>A</td>\n",
              "      <td>0</td>\n",
              "      <td>S</td>\n",
              "    </tr>\n",
              "    <tr>\n",
              "      <th>4</th>\n",
              "      <td>0004_01</td>\n",
              "      <td>Earth</td>\n",
              "      <td>False</td>\n",
              "      <td>F/1/S</td>\n",
              "      <td>TRAPPIST-1e</td>\n",
              "      <td>16.0</td>\n",
              "      <td>False</td>\n",
              "      <td>6.716570</td>\n",
              "      <td>4.121285</td>\n",
              "      <td>12.288206</td>\n",
              "      <td>23.769729</td>\n",
              "      <td>1.414214</td>\n",
              "      <td>Willy Santantines</td>\n",
              "      <td>True</td>\n",
              "      <td>F</td>\n",
              "      <td>1</td>\n",
              "      <td>S</td>\n",
              "    </tr>\n",
              "  </tbody>\n",
              "</table>\n",
              "</div>\n",
              "      <button class=\"colab-df-convert\" onclick=\"convertToInteractive('df-2f534530-51fb-4c7e-9423-73a486f93798')\"\n",
              "              title=\"Convert this dataframe to an interactive table.\"\n",
              "              style=\"display:none;\">\n",
              "        \n",
              "  <svg xmlns=\"http://www.w3.org/2000/svg\" height=\"24px\"viewBox=\"0 0 24 24\"\n",
              "       width=\"24px\">\n",
              "    <path d=\"M0 0h24v24H0V0z\" fill=\"none\"/>\n",
              "    <path d=\"M18.56 5.44l.94 2.06.94-2.06 2.06-.94-2.06-.94-.94-2.06-.94 2.06-2.06.94zm-11 1L8.5 8.5l.94-2.06 2.06-.94-2.06-.94L8.5 2.5l-.94 2.06-2.06.94zm10 10l.94 2.06.94-2.06 2.06-.94-2.06-.94-.94-2.06-.94 2.06-2.06.94z\"/><path d=\"M17.41 7.96l-1.37-1.37c-.4-.4-.92-.59-1.43-.59-.52 0-1.04.2-1.43.59L10.3 9.45l-7.72 7.72c-.78.78-.78 2.05 0 2.83L4 21.41c.39.39.9.59 1.41.59.51 0 1.02-.2 1.41-.59l7.78-7.78 2.81-2.81c.8-.78.8-2.07 0-2.86zM5.41 20L4 18.59l7.72-7.72 1.47 1.35L5.41 20z\"/>\n",
              "  </svg>\n",
              "      </button>\n",
              "      \n",
              "  <style>\n",
              "    .colab-df-container {\n",
              "      display:flex;\n",
              "      flex-wrap:wrap;\n",
              "      gap: 12px;\n",
              "    }\n",
              "\n",
              "    .colab-df-convert {\n",
              "      background-color: #E8F0FE;\n",
              "      border: none;\n",
              "      border-radius: 50%;\n",
              "      cursor: pointer;\n",
              "      display: none;\n",
              "      fill: #1967D2;\n",
              "      height: 32px;\n",
              "      padding: 0 0 0 0;\n",
              "      width: 32px;\n",
              "    }\n",
              "\n",
              "    .colab-df-convert:hover {\n",
              "      background-color: #E2EBFA;\n",
              "      box-shadow: 0px 1px 2px rgba(60, 64, 67, 0.3), 0px 1px 3px 1px rgba(60, 64, 67, 0.15);\n",
              "      fill: #174EA6;\n",
              "    }\n",
              "\n",
              "    [theme=dark] .colab-df-convert {\n",
              "      background-color: #3B4455;\n",
              "      fill: #D2E3FC;\n",
              "    }\n",
              "\n",
              "    [theme=dark] .colab-df-convert:hover {\n",
              "      background-color: #434B5C;\n",
              "      box-shadow: 0px 1px 3px 1px rgba(0, 0, 0, 0.15);\n",
              "      filter: drop-shadow(0px 1px 2px rgba(0, 0, 0, 0.3));\n",
              "      fill: #FFFFFF;\n",
              "    }\n",
              "  </style>\n",
              "\n",
              "      <script>\n",
              "        const buttonEl =\n",
              "          document.querySelector('#df-2f534530-51fb-4c7e-9423-73a486f93798 button.colab-df-convert');\n",
              "        buttonEl.style.display =\n",
              "          google.colab.kernel.accessAllowed ? 'block' : 'none';\n",
              "\n",
              "        async function convertToInteractive(key) {\n",
              "          const element = document.querySelector('#df-2f534530-51fb-4c7e-9423-73a486f93798');\n",
              "          const dataTable =\n",
              "            await google.colab.kernel.invokeFunction('convertToInteractive',\n",
              "                                                     [key], {});\n",
              "          if (!dataTable) return;\n",
              "\n",
              "          const docLinkHtml = 'Like what you see? Visit the ' +\n",
              "            '<a target=\"_blank\" href=https://colab.research.google.com/notebooks/data_table.ipynb>data table notebook</a>'\n",
              "            + ' to learn more about interactive tables.';\n",
              "          element.innerHTML = '';\n",
              "          dataTable['output_type'] = 'display_data';\n",
              "          await google.colab.output.renderOutput(dataTable, element);\n",
              "          const docLink = document.createElement('div');\n",
              "          docLink.innerHTML = docLinkHtml;\n",
              "          element.appendChild(docLink);\n",
              "        }\n",
              "      </script>\n",
              "    </div>\n",
              "  </div>\n",
              "  "
            ],
            "text/plain": [
              "  PassengerId HomePlanet CryoSleep  Cabin  Destination   Age    VIP  \\\n",
              "0     0001_01     Europa     False  B/0/P  TRAPPIST-1e  39.0  False   \n",
              "1     0002_01      Earth     False  F/0/S  TRAPPIST-1e  24.0  False   \n",
              "2     0003_01     Europa     False  A/0/S  TRAPPIST-1e  58.0   True   \n",
              "3     0003_02     Europa     False  A/0/S  TRAPPIST-1e  33.0  False   \n",
              "4     0004_01      Earth     False  F/1/S  TRAPPIST-1e  16.0  False   \n",
              "\n",
              "   RoomService  FoodCourt  ShoppingMall        Spa     VRDeck  \\\n",
              "0     0.000000   0.000000      0.000000   0.000000   0.000000   \n",
              "1     4.776856   2.080084      5.000000  23.430749   6.633250   \n",
              "2     3.503398  15.292054      0.000000  81.945104   7.000000   \n",
              "3     0.000000  10.866146     19.261360  57.697487  13.892444   \n",
              "4     6.716570   4.121285     12.288206  23.769729   1.414214   \n",
              "\n",
              "                Name  Transported Cabin_1 Cabin_2 Cabin_3  \n",
              "0    Maham Ofracculy        False       B       0       P  \n",
              "1       Juanna Vines         True       F       0       S  \n",
              "2      Altark Susent        False       A       0       S  \n",
              "3       Solam Susent        False       A       0       S  \n",
              "4  Willy Santantines         True       F       1       S  "
            ]
          },
          "execution_count": 21,
          "metadata": {},
          "output_type": "execute_result"
        }
      ],
      "source": [
        "train.loc[:,'Cabin_1'] = train.Cabin.str.split(\"/\",expand=True).iloc[:,0]\n",
        "train.loc[:,'Cabin_2'] = train.Cabin.str.split(\"/\",expand=True).iloc[:,1]\n",
        "train.loc[:,'Cabin_3'] = train.Cabin.str.split(\"/\",expand=True).iloc[:,2]\n",
        "train.head()"
      ]
    },
    {
      "cell_type": "code",
      "execution_count": null,
      "metadata": {
        "colab": {
          "base_uri": "https://localhost:8080/",
          "height": 486
        },
        "id": "7lPgoUA9zuGm",
        "outputId": "99dc1e82-65c2-4321-841e-459478835f2f"
      },
      "outputs": [
        {
          "data": {
            "image/png": "[encoded data removed]",
            "text/plain": [
              "<Figure size 640x480 with 3 Axes>"
            ]
          },
          "metadata": {},
          "output_type": "display_data"
        }
      ],
      "source": [
        "# Data visualization\n",
        "plt.subplot(311)\n",
        "sns.barplot(data=train, x='HomePlanet', y='Transported', errorbar=None)\n",
        "plt.subplot(312)\n",
        "sns.barplot(data=train, x='CryoSleep', y='Transported', errorbar=None)\n",
        "plt.subplot(313)\n",
        "sns.barplot(data=train, x='VIP', y='Transported', errorbar=None)\n",
        "plt.tight_layout()\n",
        "plt.show()"
      ]
    },
    {
      "cell_type": "code",
      "execution_count": null,
      "metadata": {
        "colab": {
          "base_uri": "https://localhost:8080/",
          "height": 360
        },
        "id": "TfxH7PoH2cGs",
        "outputId": "7836d3bb-6e7b-4b20-c223-a444ff4dcd35"
      },
      "outputs": [
        {
          "data": {
            "image/png": "[encoded data removed]",
            "text/plain": [
              "<Figure size 640x480 with 2 Axes>"
            ]
          },
          "metadata": {},
          "output_type": "display_data"
        }
      ],
      "source": [
        "plt.subplot(311)\n",
        "sns.barplot(data=train, x='Cabin_1', y='Transported', errorbar=None)\n",
        "plt.subplot(312)\n",
        "sns.barplot(data=train, x='Cabin_3', y='Transported', errorbar=None)\n",
        "plt.tight_layout()\n",
        "plt.show()"
      ]
    },
    {
      "cell_type": "code",
      "execution_count": 22,
      "metadata": {
        "colab": {
          "base_uri": "https://localhost:8080/"
        },
        "id": "3u-jyr2R6Yoj",
        "outputId": "40e26677-64fc-43a1-9aa9-ce2874a6c30a"
      },
      "outputs": [
        {
          "name": "stdout",
          "output_type": "stream",
          "text": [
            "  PassengerId  HomePlanet  CryoSleep  Cabin  Destination   Age  VIP  \\\n",
            "0     0001_01           1          0  B/0/P            2  39.0    0   \n",
            "1     0002_01           0          0  F/0/S            2  24.0    0   \n",
            "2     0003_01           1          0  A/0/S            2  58.0    1   \n",
            "3     0003_02           1          0  A/0/S            2  33.0    0   \n",
            "4     0004_01           0          0  F/1/S            2  16.0    0   \n",
            "\n",
            "   RoomService  FoodCourt  ShoppingMall        Spa     VRDeck  \\\n",
            "0     0.000000   0.000000      0.000000   0.000000   0.000000   \n",
            "1     4.776856   2.080084      5.000000  23.430749   6.633250   \n",
            "2     3.503398  15.292054      0.000000  81.945104   7.000000   \n",
            "3     0.000000  10.866146     19.261360  57.697487  13.892444   \n",
            "4     6.716570   4.121285     12.288206  23.769729   1.414214   \n",
            "\n",
            "                Name  Transported  Cabin_1  Cabin_2  Cabin_3  \n",
            "0    Maham Ofracculy            0        1        0        0  \n",
            "1       Juanna Vines            1        5        0        1  \n",
            "2      Altark Susent            0        0        0        1  \n",
            "3       Solam Susent            0        0        0        1  \n",
            "4  Willy Santantines            1        5        1        1  \n"
          ]
        }
      ],
      "source": [
        "# Label encoder\n",
        "from sklearn.preprocessing import LabelEncoder\n",
        "le = LabelEncoder()\n",
        "\n",
        "cols_to_encode = ['HomePlanet', 'CryoSleep', 'Destination', 'VIP', 'Transported', 'Cabin_1', 'Cabin_2', 'Cabin_3']\n",
        "\n",
        "for col in cols_to_encode:\n",
        "    train[col] = le.fit_transform(train[col])\n",
        "\n",
        "print(train.head())"
      ]
    },
    {
      "cell_type": "code",
      "execution_count": 23,
      "metadata": {
        "colab": {
          "base_uri": "https://localhost:8080/"
        },
        "id": "Wxe0_Lik3iA5",
        "outputId": "0cd46267-b671-4648-af47-6b2949559cae"
      },
      "outputs": [
        {
          "name": "stdout",
          "output_type": "stream",
          "text": [
            "  PassengerId  HomePlanet  CryoSleep  Cabin  Destination       Age  VIP  \\\n",
            "0     0001_01         0.5        0.0  B/0/P          1.0  0.493671  0.0   \n",
            "1     0002_01         0.0        0.0  F/0/S          1.0  0.303797  0.0   \n",
            "2     0003_01         0.5        0.0  A/0/S          1.0  0.734177  1.0   \n",
            "3     0003_02         0.5        0.0  A/0/S          1.0  0.417722  0.0   \n",
            "4     0004_01         0.0        0.0  F/1/S          1.0  0.202532  0.0   \n",
            "\n",
            "   RoomService  FoodCourt  ShoppingMall       Spa    VRDeck  \\\n",
            "0     0.000000   0.000000      0.000000  0.000000  0.000000   \n",
            "1     0.196679   0.067083      0.032622  0.156525  0.042699   \n",
            "2     0.144246   0.493171      0.000000  0.547421  0.045060   \n",
            "3     0.000000   0.350435      0.125669  0.385439  0.089428   \n",
            "4     0.276543   0.132912      0.080173  0.158790  0.009104   \n",
            "\n",
            "                Name  Transported   Cabin_1   Cabin_2  Cabin_3  \n",
            "0    Maham Ofracculy          0.0  0.142857  0.000000      0.0  \n",
            "1       Juanna Vines          1.0  0.714286  0.000000      1.0  \n",
            "2      Altark Susent          0.0  0.000000  0.000000      1.0  \n",
            "3       Solam Susent          0.0  0.000000  0.000000      1.0  \n",
            "4  Willy Santantines          1.0  0.714286  0.000551      1.0  \n"
          ]
        }
      ],
      "source": [
        "# Scale numerical columns\n",
        "from sklearn.preprocessing import MinMaxScaler\n",
        "numerical_cols = train.select_dtypes(include=['int', 'float']).columns\n",
        "scaler = MinMaxScaler()\n",
        "train[numerical_cols] = scaler.fit_transform(train[numerical_cols])\n",
        "print(train.head())"
      ]
    },
    {
      "cell_type": "code",
      "execution_count": 24,
      "metadata": {
        "id": "hnw4GRxB8VsG"
      },
      "outputs": [],
      "source": [
        "from sklearn.model_selection import train_test_split\n",
        "X = train.drop(['PassengerId', 'Cabin', 'Name', 'Transported'], axis=1)\n",
        "y = train['Transported']\n",
        "\n",
        "X_train, X_test, y_train, y_test = train_test_split(X, y, test_size=0.1, random_state=0)"
      ]
    },
    {
      "cell_type": "code",
      "execution_count": 26,
      "metadata": {
        "colab": {
          "base_uri": "https://localhost:8080/"
        },
        "id": "eD6RK98w9GUm",
        "outputId": "08787fef-f8a2-44c8-c523-7600cc708bce"
      },
      "outputs": [
        {
          "name": "stdout",
          "output_type": "stream",
          "text": [
            "Accuracy: 0.7735632183908046\n",
            "The best model param: {'max_depth': 7}\n"
          ]
        }
      ],
      "source": [
        "# Model building\n",
        "# Decision tree\n",
        "from sklearn.tree import DecisionTreeClassifier\n",
        "from sklearn.model_selection import GridSearchCV\n",
        "from sklearn import metrics\n",
        "clf_param = {'max_depth': [4,5,6,7,8,9]}\n",
        "clf = DecisionTreeClassifier()\n",
        "GSCV = GridSearchCV(clf, param_grid=clf_param, cv=5)\n",
        "GSCV.fit(X_train, y_train)\n",
        "\n",
        "clf = DecisionTreeClassifier(max_depth=8)\n",
        "clf.fit(X_train, y_train)\n",
        "\n",
        "y_pred = clf.predict(X_test)\n",
        "\n",
        "print('Accuracy:', metrics.accuracy_score(y_test, y_pred))\n",
        "print('The best model param:', GSCV.best_params_)"
      ]
    },
    {
      "cell_type": "code",
      "execution_count": 27,
      "metadata": {
        "colab": {
          "base_uri": "https://localhost:8080/"
        },
        "id": "w7D9do43Ih-_",
        "outputId": "d304d94b-6e4c-41b5-c89a-fd3a1963fcb0"
      },
      "outputs": [
        {
          "name": "stdout",
          "output_type": "stream",
          "text": [
            "Accuracy: 0.803448275862069\n"
          ]
        }
      ],
      "source": [
        "# Random forest\n",
        "from sklearn import ensemble\n",
        "RF_param = {'n_estimators': [100,150,200,250,300], 'max_depth':[4,5,6,7,8,9]}\n",
        "RF = ensemble.RandomForestClassifier(random_state=42)\n",
        "#GSCV = GridSearchCV(RF, param_grid=RF_param, cv=5)\n",
        "#GSCV.fit(X_train, y_train)\n",
        "\n",
        "RF = ensemble.RandomForestClassifier(n_estimators=150, max_depth=9, random_state=42)\n",
        "RF.fit(X_train, y_train)\n",
        "\n",
        "y_pred = RF.predict(X_test)\n",
        "\n",
        "print('Accuracy:', metrics.accuracy_score(y_test, y_pred))\n",
        "#print('The best model param:', GSCV.best_params_)"
      ]
    },
    {
      "cell_type": "code",
      "execution_count": 28,
      "metadata": {
        "colab": {
          "base_uri": "https://localhost:8080/"
        },
        "id": "YdHm8ijsLk3V",
        "outputId": "af890826-6799-4c21-92de-ffc100e3b1d9"
      },
      "outputs": [
        {
          "name": "stdout",
          "output_type": "stream",
          "text": [
            "Accuracy: 0.8149425287356322\n"
          ]
        }
      ],
      "source": [
        "# XGBoost\n",
        "import xgboost as xgb\n",
        "import numpy as np\n",
        "n_estimators = [100,150,200,250,300]\n",
        "max_depth = [4,5,6,7,8,9]\n",
        "learning_rate =[round(float(x),2) for x in np.linspace(start=0.01, stop=0.2, num=10)]\n",
        "xgb_model = xgb.XGBClassifier(random_state=42)\n",
        "param_grid = {'n_estimators': n_estimators,\n",
        "        'max_depth': max_depth,\n",
        "        'learning_rate': learning_rate}\n",
        "#GSCV = GridSearchCV(xgb_model, param_grid=param_grid, cv=5)\n",
        "#GSCV.fit(X_train, y_train)\n",
        "\n",
        "xgb_model = xgb.XGBClassifier(n_estimators=200, max_depth=6, learning_rate=0.07, random_state=42)\n",
        "xgb_model.fit(X_train, y_train)\n",
        "\n",
        "y_pred = xgb_model.predict(X_test)\n",
        "\n",
        "print('Accuracy:', metrics.accuracy_score(y_test, y_pred))\n",
        "#print('The best model param:', GSCV.best_params_)"
      ]
    },
    {
      "cell_type": "markdown",
      "metadata": {
        "id": "IrkhMaYZicgn"
      },
      "source": [
        "Test dataset prepocessing"
      ]
    },
    {
      "cell_type": "code",
      "execution_count": 50,
      "metadata": {
        "colab": {
          "base_uri": "https://localhost:8080/",
          "height": 206
        },
        "id": "zv1uKmU7igzE",
        "outputId": "19f0b753-4f2b-433b-b2d9-3d4546283e0e"
      },
      "outputs": [
        {
          "data": {
            "text/html": [
              "\n",
              "  <div id=\"df-9179e060-9521-41d7-b1c0-20a9f6acc6c4\">\n",
              "    <div class=\"colab-df-container\">\n",
              "      <div>\n",
              "<style scoped>\n",
              "    .dataframe tbody tr th:only-of-type {\n",
              "        vertical-align: middle;\n",
              "    }\n",
              "\n",
              "    .dataframe tbody tr th {\n",
              "        vertical-align: top;\n",
              "    }\n",
              "\n",
              "    .dataframe thead th {\n",
              "        text-align: right;\n",
              "    }\n",
              "</style>\n",
              "<table border=\"1\" class=\"dataframe\">\n",
              "  <thead>\n",
              "    <tr style=\"text-align: right;\">\n",
              "      <th></th>\n",
              "      <th>PassengerId</th>\n",
              "      <th>HomePlanet</th>\n",
              "      <th>CryoSleep</th>\n",
              "      <th>Cabin</th>\n",
              "      <th>Destination</th>\n",
              "      <th>Age</th>\n",
              "      <th>VIP</th>\n",
              "      <th>RoomService</th>\n",
              "      <th>FoodCourt</th>\n",
              "      <th>ShoppingMall</th>\n",
              "      <th>Spa</th>\n",
              "      <th>VRDeck</th>\n",
              "      <th>Name</th>\n",
              "    </tr>\n",
              "  </thead>\n",
              "  <tbody>\n",
              "    <tr>\n",
              "      <th>0</th>\n",
              "      <td>0013_01</td>\n",
              "      <td>Earth</td>\n",
              "      <td>True</td>\n",
              "      <td>G/3/S</td>\n",
              "      <td>TRAPPIST-1e</td>\n",
              "      <td>27.0</td>\n",
              "      <td>False</td>\n",
              "      <td>0.0</td>\n",
              "      <td>0.0</td>\n",
              "      <td>0.0</td>\n",
              "      <td>0.0</td>\n",
              "      <td>0.0</td>\n",
              "      <td>Nelly Carsoning</td>\n",
              "    </tr>\n",
              "    <tr>\n",
              "      <th>1</th>\n",
              "      <td>0018_01</td>\n",
              "      <td>Earth</td>\n",
              "      <td>False</td>\n",
              "      <td>F/4/S</td>\n",
              "      <td>TRAPPIST-1e</td>\n",
              "      <td>19.0</td>\n",
              "      <td>False</td>\n",
              "      <td>0.0</td>\n",
              "      <td>9.0</td>\n",
              "      <td>0.0</td>\n",
              "      <td>2823.0</td>\n",
              "      <td>0.0</td>\n",
              "      <td>Lerome Peckers</td>\n",
              "    </tr>\n",
              "    <tr>\n",
              "      <th>2</th>\n",
              "      <td>0019_01</td>\n",
              "      <td>Europa</td>\n",
              "      <td>True</td>\n",
              "      <td>C/0/S</td>\n",
              "      <td>55 Cancri e</td>\n",
              "      <td>31.0</td>\n",
              "      <td>False</td>\n",
              "      <td>0.0</td>\n",
              "      <td>0.0</td>\n",
              "      <td>0.0</td>\n",
              "      <td>0.0</td>\n",
              "      <td>0.0</td>\n",
              "      <td>Sabih Unhearfus</td>\n",
              "    </tr>\n",
              "    <tr>\n",
              "      <th>3</th>\n",
              "      <td>0021_01</td>\n",
              "      <td>Europa</td>\n",
              "      <td>False</td>\n",
              "      <td>C/1/S</td>\n",
              "      <td>TRAPPIST-1e</td>\n",
              "      <td>38.0</td>\n",
              "      <td>False</td>\n",
              "      <td>0.0</td>\n",
              "      <td>6652.0</td>\n",
              "      <td>0.0</td>\n",
              "      <td>181.0</td>\n",
              "      <td>585.0</td>\n",
              "      <td>Meratz Caltilter</td>\n",
              "    </tr>\n",
              "    <tr>\n",
              "      <th>4</th>\n",
              "      <td>0023_01</td>\n",
              "      <td>Earth</td>\n",
              "      <td>False</td>\n",
              "      <td>F/5/S</td>\n",
              "      <td>TRAPPIST-1e</td>\n",
              "      <td>20.0</td>\n",
              "      <td>False</td>\n",
              "      <td>10.0</td>\n",
              "      <td>0.0</td>\n",
              "      <td>635.0</td>\n",
              "      <td>0.0</td>\n",
              "      <td>0.0</td>\n",
              "      <td>Brence Harperez</td>\n",
              "    </tr>\n",
              "  </tbody>\n",
              "</table>\n",
              "</div>\n",
              "      <button class=\"colab-df-convert\" onclick=\"convertToInteractive('df-9179e060-9521-41d7-b1c0-20a9f6acc6c4')\"\n",
              "              title=\"Convert this dataframe to an interactive table.\"\n",
              "              style=\"display:none;\">\n",
              "        \n",
              "  <svg xmlns=\"http://www.w3.org/2000/svg\" height=\"24px\"viewBox=\"0 0 24 24\"\n",
              "       width=\"24px\">\n",
              "    <path d=\"M0 0h24v24H0V0z\" fill=\"none\"/>\n",
              "    <path d=\"M18.56 5.44l.94 2.06.94-2.06 2.06-.94-2.06-.94-.94-2.06-.94 2.06-2.06.94zm-11 1L8.5 8.5l.94-2.06 2.06-.94-2.06-.94L8.5 2.5l-.94 2.06-2.06.94zm10 10l.94 2.06.94-2.06 2.06-.94-2.06-.94-.94-2.06-.94 2.06-2.06.94z\"/><path d=\"M17.41 7.96l-1.37-1.37c-.4-.4-.92-.59-1.43-.59-.52 0-1.04.2-1.43.59L10.3 9.45l-7.72 7.72c-.78.78-.78 2.05 0 2.83L4 21.41c.39.39.9.59 1.41.59.51 0 1.02-.2 1.41-.59l7.78-7.78 2.81-2.81c.8-.78.8-2.07 0-2.86zM5.41 20L4 18.59l7.72-7.72 1.47 1.35L5.41 20z\"/>\n",
              "  </svg>\n",
              "      </button>\n",
              "      \n",
              "  <style>\n",
              "    .colab-df-container {\n",
              "      display:flex;\n",
              "      flex-wrap:wrap;\n",
              "      gap: 12px;\n",
              "    }\n",
              "\n",
              "    .colab-df-convert {\n",
              "      background-color: #E8F0FE;\n",
              "      border: none;\n",
              "      border-radius: 50%;\n",
              "      cursor: pointer;\n",
              "      display: none;\n",
              "      fill: #1967D2;\n",
              "      height: 32px;\n",
              "      padding: 0 0 0 0;\n",
              "      width: 32px;\n",
              "    }\n",
              "\n",
              "    .colab-df-convert:hover {\n",
              "      background-color: #E2EBFA;\n",
              "      box-shadow: 0px 1px 2px rgba(60, 64, 67, 0.3), 0px 1px 3px 1px rgba(60, 64, 67, 0.15);\n",
              "      fill: #174EA6;\n",
              "    }\n",
              "\n",
              "    [theme=dark] .colab-df-convert {\n",
              "      background-color: #3B4455;\n",
              "      fill: #D2E3FC;\n",
              "    }\n",
              "\n",
              "    [theme=dark] .colab-df-convert:hover {\n",
              "      background-color: #434B5C;\n",
              "      box-shadow: 0px 1px 3px 1px rgba(0, 0, 0, 0.15);\n",
              "      filter: drop-shadow(0px 1px 2px rgba(0, 0, 0, 0.3));\n",
              "      fill: #FFFFFF;\n",
              "    }\n",
              "  </style>\n",
              "\n",
              "      <script>\n",
              "        const buttonEl =\n",
              "          document.querySelector('#df-9179e060-9521-41d7-b1c0-20a9f6acc6c4 button.colab-df-convert');\n",
              "        buttonEl.style.display =\n",
              "          google.colab.kernel.accessAllowed ? 'block' : 'none';\n",
              "\n",
              "        async function convertToInteractive(key) {\n",
              "          const element = document.querySelector('#df-9179e060-9521-41d7-b1c0-20a9f6acc6c4');\n",
              "          const dataTable =\n",
              "            await google.colab.kernel.invokeFunction('convertToInteractive',\n",
              "                                                     [key], {});\n",
              "          if (!dataTable) return;\n",
              "\n",
              "          const docLinkHtml = 'Like what you see? Visit the ' +\n",
              "            '<a target=\"_blank\" href=https://colab.research.google.com/notebooks/data_table.ipynb>data table notebook</a>'\n",
              "            + ' to learn more about interactive tables.';\n",
              "          element.innerHTML = '';\n",
              "          dataTable['output_type'] = 'display_data';\n",
              "          await google.colab.output.renderOutput(dataTable, element);\n",
              "          const docLink = document.createElement('div');\n",
              "          docLink.innerHTML = docLinkHtml;\n",
              "          element.appendChild(docLink);\n",
              "        }\n",
              "      </script>\n",
              "    </div>\n",
              "  </div>\n",
              "  "
            ],
            "text/plain": [
              "  PassengerId HomePlanet CryoSleep  Cabin  Destination   Age    VIP  \\\n",
              "0     0013_01      Earth      True  G/3/S  TRAPPIST-1e  27.0  False   \n",
              "1     0018_01      Earth     False  F/4/S  TRAPPIST-1e  19.0  False   \n",
              "2     0019_01     Europa      True  C/0/S  55 Cancri e  31.0  False   \n",
              "3     0021_01     Europa     False  C/1/S  TRAPPIST-1e  38.0  False   \n",
              "4     0023_01      Earth     False  F/5/S  TRAPPIST-1e  20.0  False   \n",
              "\n",
              "   RoomService  FoodCourt  ShoppingMall     Spa  VRDeck              Name  \n",
              "0          0.0        0.0           0.0     0.0     0.0   Nelly Carsoning  \n",
              "1          0.0        9.0           0.0  2823.0     0.0    Lerome Peckers  \n",
              "2          0.0        0.0           0.0     0.0     0.0   Sabih Unhearfus  \n",
              "3          0.0     6652.0           0.0   181.0   585.0  Meratz Caltilter  \n",
              "4         10.0        0.0         635.0     0.0     0.0   Brence Harperez  "
            ]
          },
          "execution_count": 50,
          "metadata": {},
          "output_type": "execute_result"
        }
      ],
      "source": [
        "test.head()"
      ]
    },
    {
      "cell_type": "code",
      "execution_count": 51,
      "metadata": {
        "colab": {
          "base_uri": "https://localhost:8080/",
          "height": 507
        },
        "id": "vLi6WCoHlPE5",
        "outputId": "a72bf40e-6e12-4ac7-a943-5196dce04849"
      },
      "outputs": [
        {
          "name": "stdout",
          "output_type": "stream",
          "text": [
            "skewness: 1.56\n",
            "kurtosis: 1.34\n"
          ]
        },
        {
          "data": {
            "image/png": "[encoded data removed]",
            "text/plain": [
              "<Figure size 640x480 with 1 Axes>"
            ]
          },
          "metadata": {},
          "output_type": "display_data"
        }
      ],
      "source": [
        "# cube root transform (RoomService)\n",
        "test['RoomService'] = np.cbrt(test['RoomService'])\n",
        "\n",
        "skewness = round(test['RoomService'].skew(), 2)\n",
        "kurtosis = round(test['RoomService'].kurt(), 2)\n",
        "print(f'skewness: {skewness}')\n",
        "print(f'kurtosis: {kurtosis}')\n",
        "\n",
        "sns.histplot(test['RoomService'], kde=True, bins=50)\n",
        "plt.title('RoomService')\n",
        "plt.show()"
      ]
    },
    {
      "cell_type": "code",
      "execution_count": 52,
      "metadata": {
        "colab": {
          "base_uri": "https://localhost:8080/",
          "height": 507
        },
        "id": "IaaXw6W6laqr",
        "outputId": "54e3f667-e738-44f0-a4c5-2220a166c2ca"
      },
      "outputs": [
        {
          "name": "stdout",
          "output_type": "stream",
          "text": [
            "skewness: 1.89\n",
            "kurtosis: 3.18\n"
          ]
        },
        {
          "data": {
            "image/png": "[encoded data removed]",
            "text/plain": [
              "<Figure size 640x480 with 1 Axes>"
            ]
          },
          "metadata": {},
          "output_type": "display_data"
        }
      ],
      "source": [
        "# cube root transform (FoodCourt)\n",
        "test['FoodCourt'] = np.cbrt(test['FoodCourt'])\n",
        "\n",
        "skewness = round(test['FoodCourt'].skew(), 2)\n",
        "kurtosis = round(test['FoodCourt'].kurt(), 2)\n",
        "print(f'skewness: {skewness}')\n",
        "print(f'kurtosis: {kurtosis}')\n",
        "\n",
        "sns.histplot(test['FoodCourt'], kde=True, bins=50)\n",
        "plt.title('FoodCourt')\n",
        "plt.show()"
      ]
    },
    {
      "cell_type": "code",
      "execution_count": 53,
      "metadata": {
        "colab": {
          "base_uri": "https://localhost:8080/",
          "height": 507
        },
        "id": "ofoBnJHllhM6",
        "outputId": "4f275463-6193-4a11-fdef-7e791bc163fe"
      },
      "outputs": [
        {
          "name": "stdout",
          "output_type": "stream",
          "text": [
            "skewness: 2.53\n",
            "kurtosis: 7.59\n"
          ]
        },
        {
          "data": {
            "image/png": "[encoded data removed]",
            "text/plain": [
              "<Figure size 640x480 with 1 Axes>"
            ]
          },
          "metadata": {},
          "output_type": "display_data"
        }
      ],
      "source": [
        "# cube root transform (ShoppingMall)\n",
        "test['ShoppingMall'] = np.sqrt(test['ShoppingMall'])\n",
        "\n",
        "skewness = round(test['ShoppingMall'].skew(), 2)\n",
        "kurtosis = round(test['ShoppingMall'].kurt(), 2)\n",
        "print(f'skewness: {skewness}')\n",
        "print(f'kurtosis: {kurtosis}')\n",
        "\n",
        "sns.histplot(test['ShoppingMall'], kde=True, bins=50)\n",
        "plt.title('ShoppingMall')\n",
        "plt.show()"
      ]
    },
    {
      "cell_type": "code",
      "execution_count": 54,
      "metadata": {
        "colab": {
          "base_uri": "https://localhost:8080/",
          "height": 507
        },
        "id": "6SCZEuL9lpBB",
        "outputId": "c5cbb8ce-71bb-40c0-c7fc-9ed46a0db5b6"
      },
      "outputs": [
        {
          "name": "stdout",
          "output_type": "stream",
          "text": [
            "skewness: 3.05\n",
            "kurtosis: 11.86\n"
          ]
        },
        {
          "data": {
            "image/png": "[encoded data removed]",
            "text/plain": [
              "<Figure size 640x480 with 1 Axes>"
            ]
          },
          "metadata": {},
          "output_type": "display_data"
        }
      ],
      "source": [
        "# cube root transform (Spa)\n",
        "test['Spa'] = np.sqrt(test['Spa'])\n",
        "\n",
        "skewness = round(test['Spa'].skew(), 2)\n",
        "kurtosis = round(test['Spa'].kurt(), 2)\n",
        "print(f'skewness: {skewness}')\n",
        "print(f'kurtosis: {kurtosis}')\n",
        "\n",
        "sns.histplot(test['Spa'], kde=True, bins=50)\n",
        "plt.title('Spa')\n",
        "plt.show()"
      ]
    },
    {
      "cell_type": "code",
      "execution_count": 55,
      "metadata": {
        "colab": {
          "base_uri": "https://localhost:8080/",
          "height": 507
        },
        "id": "xKFiQL08lxW_",
        "outputId": "22a90517-43ca-4ed6-f4c8-57e5b443a192"
      },
      "outputs": [
        {
          "name": "stdout",
          "output_type": "stream",
          "text": [
            "skewness: 3.35\n",
            "kurtosis: 14.51\n"
          ]
        },
        {
          "data": {
            "image/png": "[encoded data removed]",
            "text/plain": [
              "<Figure size 640x480 with 1 Axes>"
            ]
          },
          "metadata": {},
          "output_type": "display_data"
        }
      ],
      "source": [
        "# cube root transform (VRDeck)\n",
        "test['VRDeck'] = np.sqrt(test['VRDeck'])\n",
        "\n",
        "skewness = round(test['VRDeck'].skew(), 2)\n",
        "kurtosis = round(test['VRDeck'].kurt(), 2)\n",
        "print(f'skewness: {skewness}')\n",
        "print(f'kurtosis: {kurtosis}')\n",
        "\n",
        "sns.histplot(test['VRDeck'], kde=True, bins=50)\n",
        "plt.title('VRDeck')\n",
        "plt.show()"
      ]
    },
    {
      "cell_type": "code",
      "execution_count": null,
      "metadata": {
        "colab": {
          "base_uri": "https://localhost:8080/"
        },
        "id": "7__mNDYvl5fp",
        "outputId": "c8cfd5a7-a470-4550-9f69-c70b590f606d"
      },
      "outputs": [
        {
          "name": "stdout",
          "output_type": "stream",
          "text": [
            "PassengerId       0\n",
            "HomePlanet       87\n",
            "CryoSleep        93\n",
            "Cabin           100\n",
            "Destination      92\n",
            "Age              91\n",
            "VIP              93\n",
            "RoomService      82\n",
            "FoodCourt       106\n",
            "ShoppingMall     98\n",
            "Spa             101\n",
            "VRDeck           80\n",
            "Name             94\n",
            "dtype: int64\n"
          ]
        }
      ],
      "source": [
        "# Process missing value\n",
        "print(test.isnull().sum())"
      ]
    },
    {
      "cell_type": "code",
      "execution_count": null,
      "metadata": {
        "colab": {
          "base_uri": "https://localhost:8080/"
        },
        "id": "lhmVaDYOl-6E",
        "outputId": "29758ea2-cf19-4bbb-980e-8e5a4dc2374e"
      },
      "outputs": [
        {
          "data": {
            "text/plain": [
              "Earth     2263\n",
              "Europa    1002\n",
              "Mars       925\n",
              "Name: HomePlanet, dtype: int64"
            ]
          },
          "execution_count": 130,
          "metadata": {},
          "output_type": "execute_result"
        }
      ],
      "source": [
        "test['HomePlanet'].value_counts()"
      ]
    },
    {
      "cell_type": "code",
      "execution_count": 56,
      "metadata": {
        "id": "ATZpAnoGmEYM"
      },
      "outputs": [],
      "source": [
        "test.loc[test['HomePlanet'].isnull(), 'HomePlanet'] = 'Earth'"
      ]
    },
    {
      "cell_type": "code",
      "execution_count": null,
      "metadata": {
        "colab": {
          "base_uri": "https://localhost:8080/"
        },
        "id": "nRriLrZpmH4Z",
        "outputId": "ff619637-52e6-484f-b62b-703dd7eaf1aa"
      },
      "outputs": [
        {
          "data": {
            "text/plain": [
              "False    2640\n",
              "True     1544\n",
              "Name: CryoSleep, dtype: int64"
            ]
          },
          "execution_count": 54,
          "metadata": {},
          "output_type": "execute_result"
        }
      ],
      "source": [
        "test['CryoSleep'].value_counts()"
      ]
    },
    {
      "cell_type": "code",
      "execution_count": 57,
      "metadata": {
        "id": "NHv7h28vmK0E"
      },
      "outputs": [],
      "source": [
        "test.loc[test['CryoSleep'].isnull(), 'CryoSleep'] = False"
      ]
    },
    {
      "cell_type": "code",
      "execution_count": null,
      "metadata": {
        "colab": {
          "base_uri": "https://localhost:8080/"
        },
        "id": "4acs8VYlmQTZ",
        "outputId": "9c0bdb25-52b8-4b9c-81ef-68513402b78d"
      },
      "outputs": [
        {
          "data": {
            "text/plain": [
              "G/160/P     8\n",
              "D/273/S     7\n",
              "B/31/P      7\n",
              "G/748/S     7\n",
              "E/228/S     7\n",
              "           ..\n",
              "E/236/S     1\n",
              "F/650/S     1\n",
              "G/566/P     1\n",
              "G/557/S     1\n",
              "G/1498/S    1\n",
              "Name: Cabin, Length: 3265, dtype: int64"
            ]
          },
          "execution_count": 91,
          "metadata": {},
          "output_type": "execute_result"
        }
      ],
      "source": [
        "test['Cabin'].value_counts()"
      ]
    },
    {
      "cell_type": "code",
      "execution_count": 58,
      "metadata": {
        "id": "jjcSQTL9mVB2"
      },
      "outputs": [],
      "source": [
        "test.loc[test['Cabin'].isnull(), 'Cabin'] = 'G/160/P'"
      ]
    },
    {
      "cell_type": "code",
      "execution_count": null,
      "metadata": {
        "colab": {
          "base_uri": "https://localhost:8080/"
        },
        "id": "EdyeNNnRmfZH",
        "outputId": "1ed69ba9-814d-45fc-faa0-e200f58bd788"
      },
      "outputs": [
        {
          "data": {
            "text/plain": [
              "TRAPPIST-1e      2956\n",
              "55 Cancri e       841\n",
              "PSO J318.5-22     388\n",
              "Name: Destination, dtype: int64"
            ]
          },
          "execution_count": 58,
          "metadata": {},
          "output_type": "execute_result"
        }
      ],
      "source": [
        "test['Destination'].value_counts()"
      ]
    },
    {
      "cell_type": "code",
      "execution_count": 59,
      "metadata": {
        "id": "ew_hdi74miVp"
      },
      "outputs": [],
      "source": [
        "test.loc[test['Destination'].isnull(), 'Destination'] = 'TRAPPIST-1e'"
      ]
    },
    {
      "cell_type": "code",
      "execution_count": null,
      "metadata": {
        "colab": {
          "base_uri": "https://localhost:8080/"
        },
        "id": "NBoI9JV3m3gG",
        "outputId": "0f9e8901-7c86-4a48-8f75-1c9ca428b970"
      },
      "outputs": [
        {
          "data": {
            "text/plain": [
              "False    4110\n",
              "True       74\n",
              "Name: VIP, dtype: int64"
            ]
          },
          "execution_count": 60,
          "metadata": {},
          "output_type": "execute_result"
        }
      ],
      "source": [
        "test['VIP'].value_counts()"
      ]
    },
    {
      "cell_type": "code",
      "execution_count": 60,
      "metadata": {
        "id": "fH_zsL-Cm559"
      },
      "outputs": [],
      "source": [
        "test.loc[test['VIP'].isnull(), 'VIP'] = False"
      ]
    },
    {
      "cell_type": "code",
      "execution_count": 61,
      "metadata": {
        "id": "zlZpUu5vm98S"
      },
      "outputs": [],
      "source": [
        "test.loc[test['Age'].isnull(), 'Age'] = test['Age'].median()\n",
        "test.loc[test['RoomService'].isnull(), 'RoomService'] = test['RoomService'].median()\n",
        "test.loc[test['FoodCourt'].isnull(), 'FoodCourt'] = test['FoodCourt'].median()\n",
        "test.loc[test['ShoppingMall'].isnull(), 'ShoppingMall'] = test['ShoppingMall'].median()\n",
        "test.loc[test['Spa'].isnull(), 'Spa'] = test['Spa'].median()\n",
        "test.loc[test['VRDeck'].isnull(), 'VRDeck'] = test['VRDeck'].median()"
      ]
    },
    {
      "cell_type": "code",
      "execution_count": 40,
      "metadata": {
        "colab": {
          "base_uri": "https://localhost:8080/"
        },
        "id": "UUslikg1q6Nf",
        "outputId": "1d185a87-c9dd-4a1c-a6e1-51f24dbed874"
      },
      "outputs": [
        {
          "name": "stdout",
          "output_type": "stream",
          "text": [
            "PassengerId      0\n",
            "HomePlanet       0\n",
            "CryoSleep        0\n",
            "Cabin            0\n",
            "Destination      0\n",
            "Age              0\n",
            "VIP              0\n",
            "RoomService      0\n",
            "FoodCourt        0\n",
            "ShoppingMall     0\n",
            "Spa              0\n",
            "VRDeck           0\n",
            "Name            94\n",
            "dtype: int64\n"
          ]
        }
      ],
      "source": [
        "print(test.isnull().sum())"
      ]
    },
    {
      "cell_type": "code",
      "execution_count": 62,
      "metadata": {
        "colab": {
          "base_uri": "https://localhost:8080/",
          "height": 357
        },
        "id": "Y4TXNw_KrEXN",
        "outputId": "f60ff1de-1f5f-4459-8a67-7d5dc1ce40ef"
      },
      "outputs": [
        {
          "data": {
            "text/html": [
              "\n",
              "  <div id=\"df-3d041fa1-74eb-4e24-ae39-8072d3e708f9\">\n",
              "    <div class=\"colab-df-container\">\n",
              "      <div>\n",
              "<style scoped>\n",
              "    .dataframe tbody tr th:only-of-type {\n",
              "        vertical-align: middle;\n",
              "    }\n",
              "\n",
              "    .dataframe tbody tr th {\n",
              "        vertical-align: top;\n",
              "    }\n",
              "\n",
              "    .dataframe thead th {\n",
              "        text-align: right;\n",
              "    }\n",
              "</style>\n",
              "<table border=\"1\" class=\"dataframe\">\n",
              "  <thead>\n",
              "    <tr style=\"text-align: right;\">\n",
              "      <th></th>\n",
              "      <th>PassengerId</th>\n",
              "      <th>HomePlanet</th>\n",
              "      <th>CryoSleep</th>\n",
              "      <th>Cabin</th>\n",
              "      <th>Destination</th>\n",
              "      <th>Age</th>\n",
              "      <th>VIP</th>\n",
              "      <th>RoomService</th>\n",
              "      <th>FoodCourt</th>\n",
              "      <th>ShoppingMall</th>\n",
              "      <th>Spa</th>\n",
              "      <th>VRDeck</th>\n",
              "      <th>Name</th>\n",
              "      <th>Cabin_1</th>\n",
              "      <th>Cabin_2</th>\n",
              "      <th>Cabin_3</th>\n",
              "    </tr>\n",
              "  </thead>\n",
              "  <tbody>\n",
              "    <tr>\n",
              "      <th>0</th>\n",
              "      <td>0013_01</td>\n",
              "      <td>Earth</td>\n",
              "      <td>True</td>\n",
              "      <td>G/3/S</td>\n",
              "      <td>TRAPPIST-1e</td>\n",
              "      <td>27.0</td>\n",
              "      <td>False</td>\n",
              "      <td>0.000000</td>\n",
              "      <td>0.000000</td>\n",
              "      <td>0.000000</td>\n",
              "      <td>0.000000</td>\n",
              "      <td>0.000000</td>\n",
              "      <td>Nelly Carsoning</td>\n",
              "      <td>G</td>\n",
              "      <td>3</td>\n",
              "      <td>S</td>\n",
              "    </tr>\n",
              "    <tr>\n",
              "      <th>1</th>\n",
              "      <td>0018_01</td>\n",
              "      <td>Earth</td>\n",
              "      <td>False</td>\n",
              "      <td>F/4/S</td>\n",
              "      <td>TRAPPIST-1e</td>\n",
              "      <td>19.0</td>\n",
              "      <td>False</td>\n",
              "      <td>0.000000</td>\n",
              "      <td>2.080084</td>\n",
              "      <td>0.000000</td>\n",
              "      <td>53.131911</td>\n",
              "      <td>0.000000</td>\n",
              "      <td>Lerome Peckers</td>\n",
              "      <td>F</td>\n",
              "      <td>4</td>\n",
              "      <td>S</td>\n",
              "    </tr>\n",
              "    <tr>\n",
              "      <th>2</th>\n",
              "      <td>0019_01</td>\n",
              "      <td>Europa</td>\n",
              "      <td>True</td>\n",
              "      <td>C/0/S</td>\n",
              "      <td>55 Cancri e</td>\n",
              "      <td>31.0</td>\n",
              "      <td>False</td>\n",
              "      <td>0.000000</td>\n",
              "      <td>0.000000</td>\n",
              "      <td>0.000000</td>\n",
              "      <td>0.000000</td>\n",
              "      <td>0.000000</td>\n",
              "      <td>Sabih Unhearfus</td>\n",
              "      <td>C</td>\n",
              "      <td>0</td>\n",
              "      <td>S</td>\n",
              "    </tr>\n",
              "    <tr>\n",
              "      <th>3</th>\n",
              "      <td>0021_01</td>\n",
              "      <td>Europa</td>\n",
              "      <td>False</td>\n",
              "      <td>C/1/S</td>\n",
              "      <td>TRAPPIST-1e</td>\n",
              "      <td>38.0</td>\n",
              "      <td>False</td>\n",
              "      <td>0.000000</td>\n",
              "      <td>18.806909</td>\n",
              "      <td>0.000000</td>\n",
              "      <td>13.453624</td>\n",
              "      <td>24.186773</td>\n",
              "      <td>Meratz Caltilter</td>\n",
              "      <td>C</td>\n",
              "      <td>1</td>\n",
              "      <td>S</td>\n",
              "    </tr>\n",
              "    <tr>\n",
              "      <th>4</th>\n",
              "      <td>0023_01</td>\n",
              "      <td>Earth</td>\n",
              "      <td>False</td>\n",
              "      <td>F/5/S</td>\n",
              "      <td>TRAPPIST-1e</td>\n",
              "      <td>20.0</td>\n",
              "      <td>False</td>\n",
              "      <td>2.154435</td>\n",
              "      <td>0.000000</td>\n",
              "      <td>25.199206</td>\n",
              "      <td>0.000000</td>\n",
              "      <td>0.000000</td>\n",
              "      <td>Brence Harperez</td>\n",
              "      <td>F</td>\n",
              "      <td>5</td>\n",
              "      <td>S</td>\n",
              "    </tr>\n",
              "  </tbody>\n",
              "</table>\n",
              "</div>\n",
              "      <button class=\"colab-df-convert\" onclick=\"convertToInteractive('df-3d041fa1-74eb-4e24-ae39-8072d3e708f9')\"\n",
              "              title=\"Convert this dataframe to an interactive table.\"\n",
              "              style=\"display:none;\">\n",
              "        \n",
              "  <svg xmlns=\"http://www.w3.org/2000/svg\" height=\"24px\"viewBox=\"0 0 24 24\"\n",
              "       width=\"24px\">\n",
              "    <path d=\"M0 0h24v24H0V0z\" fill=\"none\"/>\n",
              "    <path d=\"M18.56 5.44l.94 2.06.94-2.06 2.06-.94-2.06-.94-.94-2.06-.94 2.06-2.06.94zm-11 1L8.5 8.5l.94-2.06 2.06-.94-2.06-.94L8.5 2.5l-.94 2.06-2.06.94zm10 10l.94 2.06.94-2.06 2.06-.94-2.06-.94-.94-2.06-.94 2.06-2.06.94z\"/><path d=\"M17.41 7.96l-1.37-1.37c-.4-.4-.92-.59-1.43-.59-.52 0-1.04.2-1.43.59L10.3 9.45l-7.72 7.72c-.78.78-.78 2.05 0 2.83L4 21.41c.39.39.9.59 1.41.59.51 0 1.02-.2 1.41-.59l7.78-7.78 2.81-2.81c.8-.78.8-2.07 0-2.86zM5.41 20L4 18.59l7.72-7.72 1.47 1.35L5.41 20z\"/>\n",
              "  </svg>\n",
              "      </button>\n",
              "      \n",
              "  <style>\n",
              "    .colab-df-container {\n",
              "      display:flex;\n",
              "      flex-wrap:wrap;\n",
              "      gap: 12px;\n",
              "    }\n",
              "\n",
              "    .colab-df-convert {\n",
              "      background-color: #E8F0FE;\n",
              "      border: none;\n",
              "      border-radius: 50%;\n",
              "      cursor: pointer;\n",
              "      display: none;\n",
              "      fill: #1967D2;\n",
              "      height: 32px;\n",
              "      padding: 0 0 0 0;\n",
              "      width: 32px;\n",
              "    }\n",
              "\n",
              "    .colab-df-convert:hover {\n",
              "      background-color: #E2EBFA;\n",
              "      box-shadow: 0px 1px 2px rgba(60, 64, 67, 0.3), 0px 1px 3px 1px rgba(60, 64, 67, 0.15);\n",
              "      fill: #174EA6;\n",
              "    }\n",
              "\n",
              "    [theme=dark] .colab-df-convert {\n",
              "      background-color: #3B4455;\n",
              "      fill: #D2E3FC;\n",
              "    }\n",
              "\n",
              "    [theme=dark] .colab-df-convert:hover {\n",
              "      background-color: #434B5C;\n",
              "      box-shadow: 0px 1px 3px 1px rgba(0, 0, 0, 0.15);\n",
              "      filter: drop-shadow(0px 1px 2px rgba(0, 0, 0, 0.3));\n",
              "      fill: #FFFFFF;\n",
              "    }\n",
              "  </style>\n",
              "\n",
              "      <script>\n",
              "        const buttonEl =\n",
              "          document.querySelector('#df-3d041fa1-74eb-4e24-ae39-8072d3e708f9 button.colab-df-convert');\n",
              "        buttonEl.style.display =\n",
              "          google.colab.kernel.accessAllowed ? 'block' : 'none';\n",
              "\n",
              "        async function convertToInteractive(key) {\n",
              "          const element = document.querySelector('#df-3d041fa1-74eb-4e24-ae39-8072d3e708f9');\n",
              "          const dataTable =\n",
              "            await google.colab.kernel.invokeFunction('convertToInteractive',\n",
              "                                                     [key], {});\n",
              "          if (!dataTable) return;\n",
              "\n",
              "          const docLinkHtml = 'Like what you see? Visit the ' +\n",
              "            '<a target=\"_blank\" href=https://colab.research.google.com/notebooks/data_table.ipynb>data table notebook</a>'\n",
              "            + ' to learn more about interactive tables.';\n",
              "          element.innerHTML = '';\n",
              "          dataTable['output_type'] = 'display_data';\n",
              "          await google.colab.output.renderOutput(dataTable, element);\n",
              "          const docLink = document.createElement('div');\n",
              "          docLink.innerHTML = docLinkHtml;\n",
              "          element.appendChild(docLink);\n",
              "        }\n",
              "      </script>\n",
              "    </div>\n",
              "  </div>\n",
              "  "
            ],
            "text/plain": [
              "  PassengerId HomePlanet CryoSleep  Cabin  Destination   Age    VIP  \\\n",
              "0     0013_01      Earth      True  G/3/S  TRAPPIST-1e  27.0  False   \n",
              "1     0018_01      Earth     False  F/4/S  TRAPPIST-1e  19.0  False   \n",
              "2     0019_01     Europa      True  C/0/S  55 Cancri e  31.0  False   \n",
              "3     0021_01     Europa     False  C/1/S  TRAPPIST-1e  38.0  False   \n",
              "4     0023_01      Earth     False  F/5/S  TRAPPIST-1e  20.0  False   \n",
              "\n",
              "   RoomService  FoodCourt  ShoppingMall        Spa     VRDeck  \\\n",
              "0     0.000000   0.000000      0.000000   0.000000   0.000000   \n",
              "1     0.000000   2.080084      0.000000  53.131911   0.000000   \n",
              "2     0.000000   0.000000      0.000000   0.000000   0.000000   \n",
              "3     0.000000  18.806909      0.000000  13.453624  24.186773   \n",
              "4     2.154435   0.000000     25.199206   0.000000   0.000000   \n",
              "\n",
              "               Name Cabin_1 Cabin_2 Cabin_3  \n",
              "0   Nelly Carsoning       G       3       S  \n",
              "1    Lerome Peckers       F       4       S  \n",
              "2   Sabih Unhearfus       C       0       S  \n",
              "3  Meratz Caltilter       C       1       S  \n",
              "4   Brence Harperez       F       5       S  "
            ]
          },
          "execution_count": 62,
          "metadata": {},
          "output_type": "execute_result"
        }
      ],
      "source": [
        "test.loc[:,'Cabin_1'] = test.Cabin.str.split(\"/\",expand=True).iloc[:,0]\n",
        "test.loc[:,'Cabin_2'] = test.Cabin.str.split(\"/\",expand=True).iloc[:,1]\n",
        "test.loc[:,'Cabin_3'] = test.Cabin.str.split(\"/\",expand=True).iloc[:,2]\n",
        "test.head()"
      ]
    },
    {
      "cell_type": "code",
      "execution_count": 63,
      "metadata": {
        "colab": {
          "base_uri": "https://localhost:8080/"
        },
        "id": "iJYMlCh4rTvB",
        "outputId": "fff90ef2-707f-4c5b-9a59-cdec182cc89b"
      },
      "outputs": [
        {
          "name": "stdout",
          "output_type": "stream",
          "text": [
            "  PassengerId  HomePlanet  CryoSleep  Cabin  Destination   Age  VIP  \\\n",
            "0     0013_01           0          1  G/3/S            2  27.0    0   \n",
            "1     0018_01           0          0  F/4/S            2  19.0    0   \n",
            "2     0019_01           1          1  C/0/S            0  31.0    0   \n",
            "3     0021_01           1          0  C/1/S            2  38.0    0   \n",
            "4     0023_01           0          0  F/5/S            2  20.0    0   \n",
            "\n",
            "   RoomService  FoodCourt  ShoppingMall        Spa     VRDeck  \\\n",
            "0     0.000000   0.000000      0.000000   0.000000   0.000000   \n",
            "1     0.000000   2.080084      0.000000  53.131911   0.000000   \n",
            "2     0.000000   0.000000      0.000000   0.000000   0.000000   \n",
            "3     0.000000  18.806909      0.000000  13.453624  24.186773   \n",
            "4     2.154435   0.000000     25.199206   0.000000   0.000000   \n",
            "\n",
            "               Name  Cabin_1  Cabin_2  Cabin_3  \n",
            "0   Nelly Carsoning        6      820        1  \n",
            "1    Lerome Peckers        5      927        1  \n",
            "2   Sabih Unhearfus        2        0        1  \n",
            "3  Meratz Caltilter        2        1        1  \n",
            "4   Brence Harperez        5     1029        1  \n"
          ]
        }
      ],
      "source": [
        "# Label encoder\n",
        "cols_to_encode = ['HomePlanet', 'CryoSleep', 'Destination', 'VIP', 'Cabin_1', 'Cabin_2', 'Cabin_3']\n",
        "\n",
        "for col in cols_to_encode:\n",
        "    test[col] = le.fit_transform(test[col])\n",
        "\n",
        "print(test.head())"
      ]
    },
    {
      "cell_type": "code",
      "execution_count": 43,
      "metadata": {
        "colab": {
          "base_uri": "https://localhost:8080/"
        },
        "id": "xQ9wmYHBrMmF",
        "outputId": "4a5096b0-769f-4710-f4cc-3724dc7389e9"
      },
      "outputs": [
        {
          "name": "stdout",
          "output_type": "stream",
          "text": [
            "  PassengerId  HomePlanet  CryoSleep  Cabin  Destination       Age  VIP  \\\n",
            "0     0001_01         0.5        0.0  B/0/P          1.0  0.493671  0.0   \n",
            "1     0002_01         0.0        0.0  F/0/S          1.0  0.303797  0.0   \n",
            "2     0003_01         0.5        0.0  A/0/S          1.0  0.734177  1.0   \n",
            "3     0003_02         0.5        0.0  A/0/S          1.0  0.417722  0.0   \n",
            "4     0004_01         0.0        0.0  F/1/S          1.0  0.202532  0.0   \n",
            "\n",
            "   RoomService  FoodCourt  ShoppingMall       Spa    VRDeck  \\\n",
            "0     0.000000   0.000000      0.000000  0.000000  0.000000   \n",
            "1     0.196679   0.067083      0.032622  0.156525  0.042699   \n",
            "2     0.144246   0.493171      0.000000  0.547421  0.045060   \n",
            "3     0.000000   0.350435      0.125669  0.385439  0.089428   \n",
            "4     0.276543   0.132912      0.080173  0.158790  0.009104   \n",
            "\n",
            "                Name  Transported   Cabin_1   Cabin_2  Cabin_3  \n",
            "0    Maham Ofracculy          0.0  0.142857  0.000000      0.0  \n",
            "1       Juanna Vines          1.0  0.714286  0.000000      1.0  \n",
            "2      Altark Susent          0.0  0.000000  0.000000      1.0  \n",
            "3       Solam Susent          0.0  0.000000  0.000000      1.0  \n",
            "4  Willy Santantines          1.0  0.714286  0.000551      1.0  \n"
          ]
        }
      ],
      "source": [
        "# Scale numerical columns\n",
        "from sklearn.preprocessing import MinMaxScaler\n",
        "numerical_cols = test.select_dtypes(include=['int', 'float']).columns\n",
        "scaler = MinMaxScaler()\n",
        "test[numerical_cols] = scaler.fit_transform(test[numerical_cols])\n",
        "print(train.head())"
      ]
    },
    {
      "cell_type": "code",
      "execution_count": 44,
      "metadata": {
        "id": "eNrg49FyrhLH"
      },
      "outputs": [],
      "source": [
        "# Predicting\n",
        "X = test.drop(['PassengerId', 'Cabin', 'Name'], axis=1)\n",
        "y_pred = xgb_model.predict(X)"
      ]
    },
    {
      "cell_type": "code",
      "execution_count": 45,
      "metadata": {
        "colab": {
          "base_uri": "https://localhost:8080/"
        },
        "id": "tXeOLdkitqhe",
        "outputId": "887f1013-a5ef-41ab-f9e1-6f0c47278045"
      },
      "outputs": [
        {
          "name": "stdout",
          "output_type": "stream",
          "text": [
            "  PassengerId  Transported\n",
            "0     0013_01            1\n",
            "1     0018_01            0\n",
            "2     0019_01            1\n",
            "3     0021_01            1\n",
            "4     0023_01            1\n"
          ]
        }
      ],
      "source": [
        "submission['Transported'] = y_pred\n",
        "print(submission.head())"
      ]
    },
    {
      "cell_type": "code",
      "execution_count": 46,
      "metadata": {
        "colab": {
          "base_uri": "https://localhost:8080/"
        },
        "id": "1H-yxgiPvr87",
        "outputId": "252c4a8e-5f40-4915-c1d2-92fa0fdca2a8"
      },
      "outputs": [
        {
          "name": "stdout",
          "output_type": "stream",
          "text": [
            "  PassengerId  Transported\n",
            "0     0013_01         True\n",
            "1     0018_01        False\n",
            "2     0019_01         True\n",
            "3     0021_01         True\n",
            "4     0023_01         True\n"
          ]
        }
      ],
      "source": [
        "submission['Transported'] = submission['Transported'].map({1: True, 0: False})\n",
        "print(submission.head())"
      ]
    },
    {
      "cell_type": "code",
      "execution_count": 47,
      "metadata": {
        "id": "PD5YroyiucdM"
      },
      "outputs": [],
      "source": [
        "# Save to csv\n",
        "submission.to_csv(path, index=False)"
      ]
    }
  ],
  "metadata": {
    "accelerator": "GPU",
    "colab": {
      "provenance": []
    },
    "gpuClass": "standard",
    "kernelspec": {
      "display_name": "Python 3",
      "name": "python3"
    },
    "language_info": {
      "name": "python"
    }
  },
  "nbformat": 4,
  "nbformat_minor": 0
}
